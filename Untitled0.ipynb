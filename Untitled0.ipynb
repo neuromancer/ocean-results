{
 "metadata": {
  "name": "Untitled0"
 },
 "nbformat": 3,
 "nbformat_minor": 0,
 "worksheets": [
  {
   "cells": [
    {
     "cell_type": "code",
     "collapsed": false,
     "input": [
      "#import fileinput\n",
      "import sys\n",
      "import csv\n",
      "import gzip\n",
      "dir = \"07-05-2014/\"\n",
      "\n",
      "csv.field_size_limit(sys.maxsize)\n",
      "in_csvfile  = gzip.open(dir+\"buggy_traces.csv.gz\", \"r\")\n",
      "out_csvfile = gzip.open(dir+\"processed_buggy_traces.csv.gz\", \"wa\")\n",
      "reader = csv.reader(in_csvfile,  delimiter = '\\t')\n",
      "writer = csv.writer(out_csvfile, delimiter = '\\t')\n",
      "\n",
      "count = 0\n",
      "words = lambda s: reduce(lambda r,x: min(len(x),1)+r, s.split(\" \"), 0)\n",
      "vulns = dict()\n",
      "\n",
      "for line in reader:\n",
      "    if \"addr=DPtr\" in line[1] or \"eip=DPtr\" in line[1]:\n",
      "      vulns[line[0]] = 1\n",
      "\n",
      "#print vulns.keys(), len(vulns)       \n",
      "in_csvfile.seek(0)\n",
      "\n",
      "for line in reader: \n",
      "    if words(line[1]) > 30 and line[0] in vulns:\n",
      "        print line[0]\n",
      "        count = count + 1\n",
      "\n",
      "        \n",
      "print count"
     ],
     "language": "python",
     "metadata": {},
     "outputs": [
      {
       "output_type": "stream",
       "stream": "stdout",
       "text": [
        "137\n"
       ]
      }
     ],
     "prompt_number": 35
    }
   ],
   "metadata": {}
  }
 ]
}