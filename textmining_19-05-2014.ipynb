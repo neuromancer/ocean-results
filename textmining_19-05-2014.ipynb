{
 "metadata": {
  "name": "textmining_19-05-2014"
 },
 "nbformat": 3,
 "nbformat_minor": 0,
 "worksheets": [
  {
   "cells": [
    {
     "cell_type": "markdown",
     "metadata": {},
     "source": [
      "As usual, we start doing some magic to load R scripts."
     ]
    },
    {
     "cell_type": "code",
     "collapsed": false,
     "input": [
      "%load_ext rmagic "
     ],
     "language": "python",
     "metadata": {},
     "outputs": [
      {
       "output_type": "stream",
       "stream": "stdout",
       "text": [
        "During startup - Warning messages:\n",
        "1: Setting LC_TIME failed, using \"C\" \n",
        "2: Setting LC_MONETARY failed, using \"C\" \n",
        "3: Setting LC_PAPER failed, using \"C\" \n",
        "4: Setting LC_MEASUREMENT failed, using \"C\" \n"
       ]
      }
     ],
     "prompt_number": 1
    },
    {
     "cell_type": "code",
     "collapsed": false,
     "input": [
      "%%R\n",
      "\n",
      "dir = \"19-05-2014\"\n",
      "\n",
      "mycon = gzcon(gzfile(paste(dir, \"buggy_traces.csv.gz\", sep=\"/\"), open=\"r\"))\n",
      "buggy_program_events = read.csv(textConnection(readLines(mycon)), sep=\"\\t\", header = F)\n",
      "\n",
      "\n",
      "mycon = gzcon(gzfile(paste(dir, \"robust_traces.csv.gz\", sep=\"/\"), open=\"r\"))\n",
      "robust_program_events = read.csv(textConnection(readLines(mycon)), sep=\"\\t\", header = F)\n",
      "\n",
      "print(nrow(robust_program_events))\n",
      "print(nrow(buggy_program_events))\n",
      "\n",
      "programs = c(levels(buggy_program_events[,1]),levels(robust_program_events[,1]))\n",
      "\n",
      "write.csv(programs,paste(dir,\"programs.csv\", sep=\"/\"))"
     ],
     "language": "python",
     "metadata": {},
     "outputs": [
      {
       "output_type": "display_data",
       "text": [
        "[1] 182\n",
        "[1] 546\n"
       ]
      }
     ],
     "prompt_number": 2
    },
    {
     "cell_type": "markdown",
     "metadata": {},
     "source": [
      "TODO: Add an explanation about program traces as documents.\n",
      "\n",
      "Now, we load the tm package and create the corpuses from the \"documents\". "
     ]
    },
    {
     "cell_type": "code",
     "collapsed": false,
     "input": [
      "%%R\n",
      "\n",
      "library(tm)\n",
      "\n",
      "mut_robust_corpus = Corpus(VectorSource(robust_program_events[,2]))\n",
      "mut_buggy_corpus  = Corpus(VectorSource(buggy_program_events[,2]))\n",
      "\n",
      "evs_robust_corpus = Corpus(VectorSource(robust_program_events[,3]))\n",
      "evs_buggy_corpus  = Corpus(VectorSource(buggy_program_events[,3]))\n",
      "\n",
      "\n",
      "print(mut_robust_corpus)\n",
      "print(mut_buggy_corpus)\n",
      "\n",
      "print(evs_robust_corpus)\n",
      "print(evs_buggy_corpus)"
     ],
     "language": "python",
     "metadata": {},
     "outputs": [
      {
       "output_type": "display_data",
       "text": [
        "A corpus with 182 text documents\n",
        "A corpus with 546 text documents\n",
        "A corpus with 182 text documents\n",
        "A corpus with 546 text documents\n"
       ]
      }
     ],
     "prompt_number": 3
    },
    {
     "cell_type": "markdown",
     "metadata": {},
     "source": [
      "Now, it is time to create the document matrixes, and convert them to data frames adding its correspondent classes. The function \"inspect\" to convert the document term matrix into a data frame prints some information that we don't care, so we discard printed messages in this step."
     ]
    },
    {
     "cell_type": "code",
     "collapsed": false,
     "input": [
      "%%R\n",
      "\n",
      "mut_robust_dm = DocumentTermMatrix(mut_robust_corpus)\n",
      "mut_buggy_dm  = DocumentTermMatrix(mut_buggy_corpus)\n",
      "\n",
      "sink(\"/dev/null\")\n",
      "\n",
      "mut_robust_dm_df =  as.data.frame(inspect(mut_robust_dm))\n",
      "rownames(mut_robust_dm_df) = 1:nrow(mut_robust_dm)\n",
      "mut_robust_dm_df[\"class\"] = robust_program_events[,4]\n",
      "    \n",
      "mut_buggy_dm_df =  as.data.frame(inspect(mut_buggy_dm))\n",
      "rownames(mut_buggy_dm_df) = 1:nrow(mut_buggy_dm)\n",
      "mut_buggy_dm_df[\"class\"] = buggy_program_events[,4]\n",
      "\n",
      "sink()\n",
      "\n",
      "evs_robust_dm = DocumentTermMatrix(evs_robust_corpus)\n",
      "evs_buggy_dm  = DocumentTermMatrix(evs_buggy_corpus)\n",
      "\n",
      "sink(\"/dev/null\")\n",
      "\n",
      "evs_robust_dm_df =  as.data.frame(inspect(evs_robust_dm))\n",
      "rownames(evs_robust_dm_df) = 1:nrow(evs_robust_dm)\n",
      "evs_robust_dm_df[\"class\"] = robust_program_events[,4]\n",
      "    \n",
      "evs_buggy_dm_df =  as.data.frame(inspect(evs_buggy_dm))\n",
      "rownames(evs_buggy_dm_df) = 1:nrow(evs_buggy_dm)\n",
      "evs_buggy_dm_df[\"class\"] = buggy_program_events[,4]\n",
      "\n",
      "    \n",
      "sink()"
     ],
     "language": "python",
     "metadata": {},
     "outputs": [],
     "prompt_number": 4
    },
    {
     "cell_type": "markdown",
     "metadata": {},
     "source": [
      "To finish preparing the data, we need make sure we are using the same variables for all the corpuses in the mutation and events data."
     ]
    },
    {
     "cell_type": "code",
     "collapsed": false,
     "input": [
      "%%R\n",
      "\n",
      "# Mutation data\n",
      "\n",
      "library(plyr)\n",
      "\n",
      "mut_dm_df = rbind.fill(mut_robust_dm_df, mut_buggy_dm_df)\n",
      "\n",
      "mut_dm_df[is.na(mut_dm_df)] = 0\n",
      "\n",
      "mut_robust_cases = mut_dm_df[mut_dm_df$class == \"R\",]\n",
      "mut_buggy_cases  = mut_dm_df[mut_dm_df$class == \"B\",]\n",
      "\n",
      "# Event data\n",
      "\n",
      "evs_dm_df = rbind.fill(evs_robust_dm_df, evs_buggy_dm_df)\n",
      "\n",
      "evs_dm_df[is.na(evs_dm_df)] = 0\n",
      "\n",
      "evs_robust_cases = evs_dm_df[evs_dm_df$class == \"R\",]\n",
      "evs_buggy_cases  = evs_dm_df[evs_dm_df$class == \"B\",]\n",
      "\n",
      "#print(rownames(mut_robust_cases))\n",
      "#print(rownames(evs_robust_cases))\n",
      "\n",
      "#print(rownames(mut_robust_cases) %in% rownames(evs_robust_cases))\n",
      "both_robust_cases = cbind(mut_robust_cases[,names(mut_robust_cases) != \"class\"], evs_robust_cases)\n",
      "both_buggy_cases = cbind(mut_buggy_cases[,names(mut_buggy_cases) != \"class\"], evs_buggy_cases)\n",
      "\n",
      "print(nrow(both_robust_cases))\n",
      "print(nrow(both_buggy_cases))"
     ],
     "language": "python",
     "metadata": {},
     "outputs": [
      {
       "output_type": "display_data",
       "text": [
        "[1] 397\n",
        "[1] 331\n"
       ]
      }
     ],
     "prompt_number": 5
    },
    {
     "cell_type": "code",
     "collapsed": false,
     "input": [
      "%%R\n",
      "\n",
      "robust_cases = both_robust_cases\n",
      "buggy_cases = both_buggy_cases"
     ],
     "language": "python",
     "metadata": {},
     "outputs": [],
     "prompt_number": 6
    },
    {
     "cell_type": "markdown",
     "metadata": {},
     "source": [
      "now, we are ready to select train and test.."
     ]
    },
    {
     "cell_type": "code",
     "collapsed": false,
     "input": [
      "%%R\n",
      "\n",
      "train_size = 250\n",
      "test_size = nrow(buggy_cases) - train_size\n",
      "\n",
      "print(train_size)\n",
      "print(test_size)\n",
      "\n",
      "n = nrow(buggy_cases)\n",
      "rsample = sample(n)\n",
      "\n",
      "train_sample = rsample[1:(train_size)] \n",
      "test_sample = rsample[(train_size+1):(train_size+test_size)]\n",
      "\n",
      "#print(rsample)\n",
      "\n",
      "buggy_train = buggy_cases[train_sample,]\n",
      "buggy_test  = buggy_cases[test_sample,]\n",
      "\n",
      "print(nrow(buggy_train))\n",
      "print(nrow(buggy_test))\n",
      "\n",
      "# robust train and test\n",
      "\n",
      "n = nrow(robust_cases)\n",
      "rsample = sample(n)\n",
      "\n",
      "#print(rsample)\n",
      "\n",
      "# n cases are selected to keep the train dataset balanced\n",
      "train_sample = rsample[1:(train_size)]\n",
      "test_sample =  rsample[(train_size+1):(train_size+test_size)]\n",
      "more_test_sample = rsample[(train_size+test_size+1):n]\n",
      "\n",
      "robust_train = robust_cases[train_sample,]\n",
      "robust_test  = robust_cases[test_sample,]\n",
      "robust_more_test = robust_cases[more_test_sample,]\n",
      "\n",
      "print(nrow(robust_train))\n",
      "print(nrow(robust_test))\n",
      "\n",
      "train = rbind(buggy_train, robust_train)\n",
      "test  = rbind(buggy_test, robust_test)\n",
      "more_test = robust_more_test\n",
      "\n",
      "#print(more_test[1,])"
     ],
     "language": "python",
     "metadata": {},
     "outputs": [
      {
       "output_type": "display_data",
       "text": [
        "[1] 250\n",
        "[1] 81\n",
        "[1] 250\n",
        "[1] 81\n",
        "[1] 250\n",
        "[1] 81\n"
       ]
      }
     ],
     "prompt_number": 7
    },
    {
     "cell_type": "markdown",
     "metadata": {},
     "source": [
      "Finally, we are ready to train and test a knn model:"
     ]
    },
    {
     "cell_type": "markdown",
     "metadata": {},
     "source": [
      "or a SVM .."
     ]
    },
    {
     "cell_type": "code",
     "collapsed": false,
     "input": [
      "%%R\n",
      "library(\"e1071\")\n",
      "library(\"caret\")\n",
      "\n",
      "xy_train = train\n",
      "xy_train[,\"class\"] = factor(train[,\"class\"])\n",
      "x_test = test[,names(test) != \"class\"]\n",
      "y_test  = test[,\"class\"]\n",
      "\n",
      "x_more_test = more_test[,names(test) != \"class\"]\n",
      "y_more_test  = more_test[,\"class\"]\n",
      "\n",
      "#m = svm(class ~., data=xy_train, gamma=0.1, cost=10)#, kernel=\"linear\")\n",
      "m = svm(class ~., data=xy_train, gamma=0.001, cost=100)#, kernel=\"linear\")\n",
      "#scores = t(abs(t(m$coefs) %*% m$SV))\n",
      "#inds = sort(scores, decreasing=TRUE, index.return = TRUE)$i\n",
      "#print(scores[inds,])\n",
      "\n",
      "#m = tune.svm(class~., data = xy_train,  gamma = 10^(-3:-1), cost = 10^(1:2))\n",
      "#print(summary(m))\n",
      "\n",
      "z = predict(m,x_test)\n",
      "#print(z)\n",
      "#print(y_test)\n",
      "print(confusionMatrix(table(pred=z, true=y_test)))\n",
      "\n",
      "z = predict(m,x_more_test)\n",
      "#print(z)\n",
      "print(confusionMatrix(table(pred=z, true=y_more_test)))"
     ],
     "language": "python",
     "metadata": {},
     "outputs": [
      {
       "output_type": "display_data",
       "text": [
        "Loading required package: lattice\n",
        "Loading required package: ggplot2\n",
        "Confusion Matrix and Statistics\n",
        "\n",
        "    true\n",
        "pred  R  B\n",
        "   R 66 17\n",
        "   B 15 64\n",
        "                                          \n",
        "               Accuracy : 0.8025          \n",
        "                 95% CI : (0.7327, 0.8608)\n",
        "    No Information Rate : 0.5             \n",
        "    P-Value [Acc > NIR] : 1.629e-15       \n",
        "                                          \n",
        "                  Kappa : 0.6049          \n",
        " Mcnemar's Test P-Value : 0.8597          \n",
        "                                          \n",
        "            Sensitivity : 0.8148          \n",
        "            Specificity : 0.7901          \n",
        "         Pos Pred Value : 0.7952          \n",
        "         Neg Pred Value : 0.8101          \n",
        "             Prevalence : 0.5000          \n",
        "         Detection Rate : 0.4074          \n",
        "   Detection Prevalence : 0.5123          \n",
        "      Balanced Accuracy : 0.8025          \n",
        "                                          \n",
        "       'Positive' Class : R               \n",
        "                                          \n",
        "Confusion Matrix and Statistics\n",
        "\n",
        "    true\n",
        "pred  R  B\n",
        "   R 55  0\n",
        "   B 11  0\n",
        "                                          \n",
        "               Accuracy : 0.8333          \n",
        "                 95% CI : (0.7213, 0.9138)\n",
        "    No Information Rate : 1               \n",
        "    P-Value [Acc > NIR] : 1.000000        \n",
        "                                          \n",
        "                  Kappa : 0               \n",
        " Mcnemar's Test P-Value : 0.002569        \n",
        "                                          \n",
        "            Sensitivity : 0.8333          \n",
        "            Specificity :     NA          \n",
        "         Pos Pred Value :     NA          \n",
        "         Neg Pred Value :     NA          \n",
        "             Prevalence : 1.0000          \n",
        "         Detection Rate : 0.8333          \n",
        "   Detection Prevalence : 0.8333          \n",
        "      Balanced Accuracy :     NA          \n",
        "                                          \n",
        "       'Positive' Class : R               \n",
        "                                          \n"
       ]
      }
     ],
     "prompt_number": 8
    },
    {
     "cell_type": "code",
     "collapsed": false,
     "input": [
      "%%R\n",
      "\n",
      "scores = t(abs(t(m$coefs) %*% m$SV))\n",
      "inds = sort(scores, decreasing=TRUE, index.return = TRUE)$i\n",
      "print(names(scores[inds,][1:50]))"
     ],
     "language": "python",
     "metadata": {},
     "outputs": [
      {
       "output_type": "display_data",
       "text": [
        " [1] \"X.strlen.ret_val.num32b8.\"          \"X.strlen.0.hptr32.\"                \n",
        " [3] \"X.strcpy.ret_val.hptr32.\"           \"X.strcpy.0.hptr32.\"                \n",
        " [5] \"X.strchr.1.num32b8.\"                \"X.strcpy.1.hptr32.\"                \n",
        " [7] \"X.strchr.0.lptr32.\"                 \"X.strlen.0.gptr32.\"                \n",
        " [9] \"X.memcpy.1.hptr32.\"                 \"X.__ctype_b_loc.ret_val.fptr32.\"   \n",
        "[11] \"X.__ctype_b_loc.0.top32.\"           \"X.strchr.ret_val.nptr32.\"          \n",
        "[13] \"X.strchr.ret_val.lptr32.\"           \"X.fread.1.num32b8.\"                \n",
        "[15] \"X.fread.3.hptr32.\"                  \"X.fread.2.num32b8.\"                \n",
        "[17] \"X.fread.0.sptr32.\"                  \"X.fread.ret_val.num32b0.\"          \n",
        "[19] \"X.strlen.0.lptr32.\"                 \"X.tolower.0.num32b8.\"              \n",
        "[21] \"X.tolower.ret_val.num32b8.\"         \"X.memcpy.1.lptr32.\"                \n",
        "[23] \"X.memcpy.0.hptr32.\"                 \"X.memcpy.ret_val.hptr32.\"          \n",
        "[25] \"X.memset.0.hptr32.\"                 \"X.memset.ret_val.hptr32.\"          \n",
        "[27] \"X.realloc.ret_val.hptr32.\"          \"X.realloc.1.num32b8.\"              \n",
        "[29] \"X.memcpy.2.num32b8.\"                \"X.memset.2.num32b16.\"              \n",
        "[31] \"X.realloc.0.nptr32.\"                \"X.memset.1.num32b0.\"               \n",
        "[33] \"X.fgets.0.sptr32.\"                  \"X.fgets.ret_val.sptr32.\"           \n",
        "[35] \"X.fprintf.1.gptr32.\"                \"X.fgets.2.hptr32.\"                 \n",
        "[37] \"X.fprintf.0.lptr32.\"                \"X.fprintf.ret_val.num32b8.\"        \n",
        "[39] \"X.fgets.1.num32b16.\"                \"X.vfprintf.ret_val.num32b8.\"       \n",
        "[41] \"X.vfprintf.0.lptr32.\"               \"X.vfprintf.2.sptr32.\"              \n",
        "[43] \"X.vfprintf.1.gptr32.\"               \"X.fputc.0.num32b8.\"                \n",
        "[45] \"X.fputc.1.lptr32.\"                  \"X.fputc.ret_val.num32b8.\"          \n",
        "[47] \"X.strcmp.1.sptr32.\"                 \"X.strcmp.0.hptr32.\"                \n",
        "[49] \"X.__errno_location.0.top32.\"        \"X.__errno_location.ret_val.fptr32.\"\n"
       ]
      }
     ],
     "prompt_number": 62
    },
    {
     "cell_type": "code",
     "collapsed": false,
     "input": [
      "%%R\n",
      "m_vars = names(xy_train)\n",
      "\n",
      "save(m_vars, file=paste(dir, \"svms\", \"mvars.data\", sep=\"/\"))\n",
      "save(m, file=paste(dir, \"svms\", \"mutation-event-classifier.svm\", sep=\"/\"))"
     ],
     "language": "python",
     "metadata": {},
     "outputs": [],
     "prompt_number": 9
    },
    {
     "cell_type": "code",
     "collapsed": false,
     "input": [],
     "language": "python",
     "metadata": {},
     "outputs": []
    }
   ],
   "metadata": {}
  }
 ]
}