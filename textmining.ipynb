{
 "metadata": {
  "name": "textmining"
 },
 "nbformat": 3,
 "nbformat_minor": 0,
 "worksheets": [
  {
   "cells": [
    {
     "cell_type": "code",
     "collapsed": false,
     "input": [
      "%load_ext rmagic "
     ],
     "language": "python",
     "metadata": {},
     "outputs": [],
     "prompt_number": 2
    },
    {
     "cell_type": "code",
     "collapsed": false,
     "input": [
      "%%R\n",
      "\n",
      "dir = \"24-04-2014\"\n",
      "mycvs = paste(dir, \"robust_program_events.csv\", sep=\"/\")\n",
      "robust_program_events = read.csv(mycvs, sep=\"\\t\")\n",
      "\n",
      "\n",
      "mycvs = paste(dir, \"buggy_program_events.csv\", sep=\"/\")\n",
      "buggy_program_events = read.csv(mycvs, sep=\"\\t\")\n",
      "\n",
      "print(nrow(robust_program_events))\n",
      "print(nrow(buggy_program_events))"
     ],
     "language": "python",
     "metadata": {},
     "outputs": [
      {
       "output_type": "display_data",
       "text": [
        "[1] 100\n",
        "[1] 187\n"
       ]
      }
     ],
     "prompt_number": 10
    },
    {
     "cell_type": "markdown",
     "metadata": {},
     "source": [
      "Now, we load the tm package and create the corpuses"
     ]
    },
    {
     "cell_type": "code",
     "collapsed": false,
     "input": [
      "%%R\n",
      "\n",
      "library(tm)\n",
      "\n",
      "robust_corpus = Corpus(VectorSource(robust_program_events[,1]))\n",
      "buggy_corpus  = Corpus(VectorSource(buggy_program_events[,1]))\n",
      "\n",
      "print(robust_corpus)\n",
      "print(buggy_corpus)"
     ],
     "language": "python",
     "metadata": {},
     "outputs": [
      {
       "output_type": "display_data",
       "text": [
        "A corpus with 100 text documents\n",
        "A corpus with 187 text documents\n"
       ]
      }
     ],
     "prompt_number": 24
    },
    {
     "cell_type": "markdown",
     "metadata": {},
     "source": [
      "Now, it is time for ..."
     ]
    },
    {
     "cell_type": "code",
     "collapsed": false,
     "input": [
      "%%R\n",
      "\n",
      "robust_dm = DocumentTermMatrix(robust_corpus)\n",
      "buggy_dm  = DocumentTermMatrix(buggy_corpus)\n",
      "\n",
      "print(robust_dm)\n",
      "print(buggy_dm)\n",
      "\n",
      "#print(inspect(robust_dm)[1:10,101:110])\n",
      "#print(findFreqTerms(robust_dm, lowfreq=10))"
     ],
     "language": "python",
     "metadata": {},
     "outputs": [
      {
       "output_type": "display_data",
       "text": [
        "A document-term matrix (100 documents, 428 terms)\n",
        "\n",
        "Non-/sparse entries: 6469/36331\n",
        "Sparsity           : 85%\n",
        "Maximal term length: 38 \n",
        "Weighting          : term frequency (tf)\n",
        "A document-term matrix (187 documents, 358 terms)\n",
        "\n",
        "Non-/sparse entries: 4886/62060\n",
        "Sparsity           : 93%\n",
        "Maximal term length: 30 \n",
        "Weighting          : term frequency (tf)\n"
       ]
      }
     ],
     "prompt_number": 32
    }
   ],
   "metadata": {}
  }
 ]
}