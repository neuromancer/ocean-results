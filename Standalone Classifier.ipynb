{
 "metadata": {
  "name": "Standalone Classifier"
 },
 "nbformat": 3,
 "nbformat_minor": 0,
 "worksheets": [
  {
   "cells": [
    {
     "cell_type": "code",
     "collapsed": false,
     "input": [
      "%load_ext rmagic "
     ],
     "language": "python",
     "metadata": {},
     "outputs": [],
     "prompt_number": 1
    },
    {
     "cell_type": "code",
     "collapsed": false,
     "input": [
      "%%R\n",
      "library(\"e1071\")\n",
      "\n",
      "dir = \"19-05-2014\"\n",
      "\n",
      "load(file = paste(dir, \"svms\", \"mutation-classifier.svm\", sep=\"/\"))\n",
      "load(file = paste(dir, \"svms\", \"mvars.data\", sep=\"/\"))\n",
      "load(file = paste(dir, \"svms\", \"mprogs.data\", sep=\"/\"))"
     ],
     "language": "python",
     "metadata": {},
     "outputs": [],
     "prompt_number": 10
    },
    {
     "cell_type": "code",
     "collapsed": false,
     "input": [
      "%%R\n",
      "\n",
      "mycon = gzcon(gzfile(paste(dir, \"filtered_traces.csv.gz\", sep=\"/\"), open=\"r\"))\n",
      "more_program_events = read.csv(textConnection(readLines(mycon)), sep=\"\\t\", header = F)\n",
      "\n",
      "#more_program_events[,4] = factor(more_program_events[,4])\n",
      "more_program_events <- droplevels(more_program_events)\n",
      "\n",
      "print(nrow(more_program_events))\n"
     ],
     "language": "python",
     "metadata": {},
     "outputs": [
      {
       "output_type": "display_data",
       "text": [
        "Error in textConnection(readLines(mycon)) : Interrupted\n",
        "[1] 2333\n"
       ]
      }
     ],
     "prompt_number": 8
    },
    {
     "cell_type": "code",
     "collapsed": false,
     "input": [
      "%%R\n",
      "print(levels(factor(more_program_events[more_program_events[,1] %in% m_progs,1])))"
     ],
     "language": "python",
     "metadata": {},
     "outputs": [
      {
       "output_type": "display_data",
       "text": [
        "character(0)\n"
       ]
      }
     ],
     "prompt_number": 11
    },
    {
     "cell_type": "code",
     "collapsed": false,
     "input": [
      "%%R\n",
      "\n",
      "library(tm)\n",
      "\n",
      "mut_more_corpus = Corpus(VectorSource(more_program_events[,2]))\n",
      "evs_more_corpus = Corpus(VectorSource(more_program_events[,3]))\n",
      "\n",
      "print(mut_more_corpus)\n",
      "print(evs_more_corpus)\n",
      "#print(more_program_events[,1])"
     ],
     "language": "python",
     "metadata": {},
     "outputs": [
      {
       "output_type": "display_data",
       "text": [
        "A corpus with 2333 text documents\n",
        "A corpus with 2333 text documents\n"
       ]
      }
     ],
     "prompt_number": 12
    },
    {
     "cell_type": "code",
     "collapsed": false,
     "input": [
      "%%R\n",
      "\n",
      "mut_more_dm  = DocumentTermMatrix(mut_more_corpus)\n",
      "evs_more_dm  = DocumentTermMatrix(evs_more_corpus)\n",
      "\n",
      "#print(robust_dm)\n",
      "#print(buggy_dm)\n",
      "\n",
      "sink(\"/dev/null\")\n",
      "\n",
      "mut_more_dm_df =  as.data.frame(inspect(mut_more_dm))\n",
      "#print(rownames(more_dm_df))\n",
      "#rownames(more_dm_df) = 1:nrow(more_dm)\n",
      "#print(rownames(more_dm_df))\n",
      "mut_more_dm_df[\"class\"] = more_program_events[,4]\n",
      "\n",
      "evs_more_dm_df =  as.data.frame(inspect(evs_more_dm))\n",
      "#print(rownames(more_dm_df))\n",
      "#rownames(more_dm_df) = 1:nrow(more_dm)\n",
      "#print(rownames(more_dm_df))\n",
      "evs_more_dm_df[\"class\"] = more_program_events[,4]\n",
      "    \n",
      "sink()"
     ],
     "language": "python",
     "metadata": {},
     "outputs": [],
     "prompt_number": 13
    },
    {
     "cell_type": "code",
     "collapsed": false,
     "input": [
      "%%R\n",
      "\n",
      "#dm_df = merge(robust_dm_df, buggy_dm_df,all=TRUE, sort=FALSE) \n",
      "\n",
      "#print(dm_df[1,])\n",
      "#print(nrow(dm_df))\n",
      "#dm_df[is.na(dm_df)] = 0\n",
      "\n",
      "test = cbind(mut_more_dm_df[,names(mut_more_dm_df) != \"class\"], evs_more_dm_df)\n",
      "\n",
      "#robust_cases = more_dm_df[more_dm_df$class == \"R\",]\n",
      "#buggy_cases  = more_dm_df[more_dm_df$class == \"B\",]\n",
      "\n",
      "#both_robust_cases = cbind(mut_robust_cases[,names(mut_robust_cases) != \"class\"], evs_robust_cases)\n",
      "\n",
      "#print(ncol(robust_cases))\n",
      "#print(ncol(buggy_cases))\n",
      "\n",
      "#print(nrow(robust_cases))\n",
      "#print(nrow(buggy_cases))\n",
      "\n",
      "#print(names(buggy_cases))\n",
      "\n",
      "#print(test[829,])"
     ],
     "language": "python",
     "metadata": {},
     "outputs": [],
     "prompt_number": 14
    },
    {
     "cell_type": "code",
     "collapsed": false,
     "input": [
      "%%R\n",
      "\n",
      "library(\"caret\")\n",
      "\n",
      "x_test = test[,names(test) != \"class\"]\n",
      "y_test  = test[,\"class\"]\n",
      "\n",
      "x_vars = names(x_test)\n",
      "\n",
      "#print(names(x_test))\n",
      "#print(attributes(m))\n",
      "#t = m$terms\n",
      "\n",
      "#print(x_test[1,m_vars])\n",
      "m_vars = m_vars[m_vars != \"class\"]\n",
      "missing_vars = m_vars[! m_vars %in% x_vars]\n",
      "#print(missing_vars)\n",
      "x_test[,missing_vars] = 0\n",
      "\n",
      "#for(v in m_progs) {\n",
      "#    print(v)\n",
      "#    print(v %in% names(x_test))\n",
      "#}\n",
      "\n",
      "#print(attributes(t$variables))\n",
      "\n",
      "z = predict(m,x_test)\n",
      "\n",
      "#print(levels(z))\n",
      "#print(y_test)\n",
      "#levels(y_test) = levels(z)\n",
      "\n",
      "y_test = factor(y_test, levels = c(\"R\", \"B\"))\n",
      "\n",
      "print(table(y_test))\n",
      "print(confusionMatrix(z, y_test))"
     ],
     "language": "python",
     "metadata": {},
     "outputs": [
      {
       "output_type": "display_data",
       "text": [
        "y_test\n",
        "   R    B \n",
        " 837 1496 \n",
        "Confusion Matrix and Statistics\n",
        "\n",
        "          Reference\n",
        "Prediction   R   B\n",
        "         R 609 594\n",
        "         B 228 902\n",
        "                                          \n",
        "               Accuracy : 0.6477          \n",
        "                 95% CI : (0.6279, 0.6671)\n",
        "    No Information Rate : 0.6412          \n",
        "    P-Value [Acc > NIR] : 0.2661          \n",
        "                                          \n",
        "                  Kappa : 0.3015          \n",
        " Mcnemar's Test P-Value : <2e-16          \n",
        "                                          \n",
        "            Sensitivity : 0.7276          \n",
        "            Specificity : 0.6029          \n",
        "         Pos Pred Value : 0.5062          \n",
        "         Neg Pred Value : 0.7982          \n",
        "             Prevalence : 0.3588          \n",
        "         Detection Rate : 0.2610          \n",
        "   Detection Prevalence : 0.5156          \n",
        "      Balanced Accuracy : 0.6653          \n",
        "                                          \n",
        "       'Positive' Class : R               \n",
        "                                          \n"
       ]
      }
     ],
     "prompt_number": 16
    },
    {
     "cell_type": "code",
     "collapsed": false,
     "input": [],
     "language": "python",
     "metadata": {},
     "outputs": []
    }
   ],
   "metadata": {}
  }
 ]
}