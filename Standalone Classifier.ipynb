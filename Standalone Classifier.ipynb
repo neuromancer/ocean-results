{
 "metadata": {
  "name": "Standalone Classifier"
 },
 "nbformat": 3,
 "nbformat_minor": 0,
 "worksheets": [
  {
   "cells": [
    {
     "cell_type": "code",
     "collapsed": false,
     "input": [
      "%load_ext rmagic "
     ],
     "language": "python",
     "metadata": {},
     "outputs": [
      {
       "output_type": "stream",
       "stream": "stdout",
       "text": [
        "During startup - Warning messages:\n",
        "1: Setting LC_TIME failed, using \"C\" \n",
        "2: Setting LC_MONETARY failed, using \"C\" \n",
        "3: Setting LC_PAPER failed, using \"C\" \n",
        "4: Setting LC_MEASUREMENT failed, using \"C\" \n"
       ]
      }
     ],
     "prompt_number": 2
    },
    {
     "cell_type": "code",
     "collapsed": false,
     "input": [
      "%%R\n",
      "library(\"e1071\")\n",
      "\n",
      "dir = \"19-05-2014\"\n",
      "\n",
      "load(file = paste(dir, \"svms\", \"mutation-event-classifier.svm\", sep=\"/\"))\n",
      "load(file = paste(dir, \"svms\", \"mvars.data\", sep=\"/\"))\n",
      "#load(file = paste(dir, \"svms\", \"mprogs.data\", sep=\"/\"))\n",
      "#read.csv(textConnection(readLines(mycon)), sep=\"\\t\", header = F)"
     ],
     "language": "python",
     "metadata": {},
     "outputs": [],
     "prompt_number": 16
    },
    {
     "cell_type": "code",
     "collapsed": false,
     "input": [
      "%%R\n",
      "\n",
      "mycon = gzcon(gzfile(paste(dir, \"filtered_traces.csv.gz\", sep=\"/\"), open=\"r\"))\n",
      "more_program_events = read.csv(textConnection(readLines(mycon)), sep=\"\\t\", header = F)\n",
      "\n",
      "#more_program_events[,4] = factor(more_program_events[,4])\n",
      "#more_program_events <- droplevels(more_program_events)\n",
      "\n",
      "print(nrow(more_program_events))\n"
     ],
     "language": "python",
     "metadata": {},
     "outputs": [
      {
       "output_type": "display_data",
       "text": [
        "[1] 2333\n"
       ]
      }
     ],
     "prompt_number": 4
    },
    {
     "cell_type": "code",
     "collapsed": false,
     "input": [
      "%%R\n",
      "#print(levels(factor(more_program_events[more_program_events[,1] %in% m_progs,1])))"
     ],
     "language": "python",
     "metadata": {},
     "outputs": [
      {
       "output_type": "display_data",
       "text": [
        "character(0)\n"
       ]
      }
     ],
     "prompt_number": 11
    },
    {
     "cell_type": "code",
     "collapsed": false,
     "input": [
      "%%R\n",
      "\n",
      "library(tm)\n",
      "\n",
      "mut_more_corpus = Corpus(VectorSource(more_program_events[,2]))\n",
      "evs_more_corpus = Corpus(VectorSource(more_program_events[,3]))\n",
      "\n",
      "print(mut_more_corpus)\n",
      "print(evs_more_corpus)\n",
      "#print(more_program_events[,1])"
     ],
     "language": "python",
     "metadata": {},
     "outputs": [
      {
       "output_type": "display_data",
       "text": [
        "A corpus with 2333 text documents\n",
        "A corpus with 2333 text documents\n"
       ]
      }
     ],
     "prompt_number": 5
    },
    {
     "cell_type": "code",
     "collapsed": false,
     "input": [
      "%%R\n",
      "\n",
      "mut_more_dm  = DocumentTermMatrix(mut_more_corpus)\n",
      "evs_more_dm  = DocumentTermMatrix(evs_more_corpus)\n",
      "\n",
      "#print(robust_dm)\n",
      "#print(buggy_dm)\n",
      "\n",
      "sink(\"/dev/null\")\n",
      "\n",
      "mut_more_dm_df =  as.data.frame(inspect(mut_more_dm))\n",
      "#print(rownames(more_dm_df))\n",
      "#rownames(more_dm_df) = 1:nrow(more_dm)\n",
      "#print(rownames(more_dm_df))\n",
      "mut_more_dm_df[\"class\"] = more_program_events[,4]\n",
      "\n",
      "evs_more_dm_df =  as.data.frame(inspect(evs_more_dm))\n",
      "#print(rownames(more_dm_df))\n",
      "#rownames(more_dm_df) = 1:nrow(more_dm)\n",
      "#print(rownames(more_dm_df))\n",
      "evs_more_dm_df[\"class\"] = more_program_events[,4]\n",
      "    \n",
      "sink()"
     ],
     "language": "python",
     "metadata": {},
     "outputs": [],
     "prompt_number": 6
    },
    {
     "cell_type": "code",
     "collapsed": false,
     "input": [
      "%%R\n",
      "\n",
      "#dm_df = merge(robust_dm_df, buggy_dm_df,all=TRUE, sort=FALSE) \n",
      "\n",
      "#print(dm_df[1,])\n",
      "#print(nrow(dm_df))\n",
      "#dm_df[is.na(dm_df)] = 0\n",
      "\n",
      "#test = cbind(mut_more_dm_df[,names(mut_more_dm_df) != \"class\"], evs_more_dm_df)\n",
      "\n",
      "\n",
      "\n",
      "robust_cases = mut_more_dm_df[mut_more_dm_df$class == \"R\",]\n",
      "buggy_cases = mut_more_dm_df[mut_more_dm_df$class == \"B\",]\n",
      "\n",
      "n = nrow(robust_cases)\n",
      "\n",
      "rsample = sample(nrow(robust_cases))\n",
      "robust_cases = robust_cases[rsample[1:n],]\n",
      "\n",
      "rsample = sample(nrow(buggy_cases))\n",
      "buggy_cases = buggy_cases[rsample[1:n],]\n",
      "\n",
      "print(nrow(robust_cases))\n",
      "print(nrow(buggy_cases))\n",
      "\n",
      "#robust_cases = more_dm_df[more_dm_df$class == \"R\",]\n",
      "#buggy_cases  = more_dm_df[more_dm_df$class == \"B\",]\n",
      "\n",
      "#both_robust_cases = cbind(mut_robust_cases[,names(mut_robust_cases) != \"class\"], evs_robust_cases)\n",
      "\n",
      "#print(ncol(robust_cases))\n",
      "#print(ncol(buggy_cases))\n",
      "\n",
      "#print(nrow(robust_cases))\n",
      "#print(nrow(buggy_cases))\n",
      "\n",
      "#print(names(buggy_cases))\n",
      "\n",
      "#print(test[829,])"
     ],
     "language": "python",
     "metadata": {},
     "outputs": [
      {
       "output_type": "display_data",
       "text": [
        "[1] 837\n",
        "[1] 837\n"
       ]
      }
     ],
     "prompt_number": 18
    },
    {
     "cell_type": "code",
     "collapsed": false,
     "input": [
      "%%R\n",
      "\n",
      "library(\"caret\")\n",
      "\n",
      "test = rbind(robust_cases, buggy_cases)\n",
      "\n",
      "x_test = test[,names(test) != \"class\"]\n",
      "y_test  = test[,\"class\"]\n",
      "\n",
      "x_vars = names(x_test)\n",
      "\n",
      "m_vars = m_vars[m_vars != \"class\"]\n",
      "missing_vars = m_vars[! m_vars %in% x_vars]\n",
      "#print(missing_vars)\n",
      "x_test[,missing_vars] = 0\n",
      "\n",
      "#Test data summary\n",
      "print(table(Reference=y_test))\n",
      "\n",
      "load(file = paste(dir, \"svms\", \"mutation-classifier.svm\", sep=\"/\"))\n",
      "z = predict(m,x_test)\n",
      "\n",
      "# Factor correction\n",
      "y_test = factor(y_test, levels = c(\"R\", \"B\"))\n",
      "print(\"Mutation only classifier:\")\n",
      "print(confusionMatrix(z, y_test))\n",
      "\n",
      "load(file = paste(dir, \"svms\", \"mutation-event-classifier.svm\", sep=\"/\"))\n",
      "z = predict(m,x_test)\n",
      "\n",
      "# Factor correction\n",
      "y_test = factor(y_test, levels = c(\"R\", \"B\"))\n",
      "print(\"Mutation-event classifier:\")\n",
      "print(confusionMatrix(z, y_test))"
     ],
     "language": "python",
     "metadata": {},
     "outputs": [
      {
       "output_type": "display_data",
       "text": [
        "Reference\n",
        "  B   R \n",
        "837 837 \n",
        "[1] \"Mutation only classifier:\"\n",
        "Confusion Matrix and Statistics\n",
        "\n",
        "          Reference\n",
        "Prediction   R   B\n",
        "         R 496 189\n",
        "         B 341 648\n",
        "                                          \n",
        "               Accuracy : 0.6834          \n",
        "                 95% CI : (0.6605, 0.7056)\n",
        "    No Information Rate : 0.5             \n",
        "    P-Value [Acc > NIR] : < 2.2e-16       \n",
        "                                          \n",
        "                  Kappa : 0.3668          \n",
        " Mcnemar's Test P-Value : 5.416e-11       \n",
        "                                          \n",
        "            Sensitivity : 0.5926          \n",
        "            Specificity : 0.7742          \n",
        "         Pos Pred Value : 0.7241          \n",
        "         Neg Pred Value : 0.6552          \n",
        "             Prevalence : 0.5000          \n",
        "         Detection Rate : 0.2963          \n",
        "   Detection Prevalence : 0.4092          \n",
        "      Balanced Accuracy : 0.6834          \n",
        "                                          \n",
        "       'Positive' Class : R               \n",
        "                                          \n",
        "[1] \"Mutation-event classifier:\"\n",
        "Confusion Matrix and Statistics\n",
        "\n",
        "          Reference\n",
        "Prediction   R   B\n",
        "         R 251  29\n",
        "         B 586 808\n",
        "                                         \n",
        "               Accuracy : 0.6326         \n",
        "                 95% CI : (0.609, 0.6558)\n",
        "    No Information Rate : 0.5            \n",
        "    P-Value [Acc > NIR] : < 2.2e-16      \n",
        "                                         \n",
        "                  Kappa : 0.2652         \n",
        " Mcnemar's Test P-Value : < 2.2e-16      \n",
        "                                         \n",
        "            Sensitivity : 0.2999         \n",
        "            Specificity : 0.9654         \n",
        "         Pos Pred Value : 0.8964         \n",
        "         Neg Pred Value : 0.5796         \n",
        "             Prevalence : 0.5000         \n",
        "         Detection Rate : 0.1499         \n",
        "   Detection Prevalence : 0.1673         \n",
        "      Balanced Accuracy : 0.6326         \n",
        "                                         \n",
        "       'Positive' Class : R              \n",
        "                                         \n"
       ]
      }
     ],
     "prompt_number": 23
    },
    {
     "cell_type": "code",
     "collapsed": false,
     "input": [],
     "language": "python",
     "metadata": {},
     "outputs": []
    }
   ],
   "metadata": {}
  }
 ]
}