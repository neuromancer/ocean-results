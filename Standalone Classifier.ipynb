{
 "metadata": {
  "name": "Standalone Classifier"
 },
 "nbformat": 3,
 "nbformat_minor": 0,
 "worksheets": [
  {
   "cells": [
    {
     "cell_type": "code",
     "collapsed": false,
     "input": [
      "%load_ext rmagic "
     ],
     "language": "python",
     "metadata": {},
     "outputs": [],
     "prompt_number": 1
    },
    {
     "cell_type": "code",
     "collapsed": false,
     "input": [
      "%%R\n",
      "library(\"e1071\")\n",
      "\n",
      "dir = \"19-05-2014\"\n",
      "\n",
      "load(file = paste(dir, \"svms\", \"mutation-event-classifier.svm\", sep=\"/\"))\n",
      "load(file = paste(dir, \"svms\", \"mvars.data\", sep=\"/\"))\n",
      "#load(file = paste(dir, \"svms\", \"mprogs.data\", sep=\"/\"))\n",
      "#read.csv(textConnection(readLines(mycon)), sep=\"\\t\", header = F)"
     ],
     "language": "python",
     "metadata": {},
     "outputs": [],
     "prompt_number": 2
    },
    {
     "cell_type": "code",
     "collapsed": false,
     "input": [
      "%%R\n",
      "\n",
      "options(stringsAsFactors=F)\n",
      "\n",
      "mycon = gzcon(gzfile(paste(dir, \"filtered_traces.csv.gz\", sep=\"/\"), open=\"r\"))\n",
      "more_program_events = read.csv(textConnection(readLines(mycon)), sep=\"\\t\", header = F)\n",
      "\n",
      "cats = factor(more_program_events[,4], levels = c(\"R\",\"B\"))\n",
      "\n",
      "#more_program_events[,4] = factor(more_program_events[,4])\n",
      "#more_program_events <- droplevels(more_program_events)\n",
      "\n",
      "print(nrow(more_program_events))\n"
     ],
     "language": "python",
     "metadata": {},
     "outputs": [
      {
       "output_type": "display_data",
       "text": [
        "[1] 2333\n"
       ]
      }
     ],
     "prompt_number": 4
    },
    {
     "cell_type": "code",
     "collapsed": false,
     "input": [
      "%%R\n",
      "\n",
      "library(tm)\n",
      "\n",
      "mut_more_corpus = Corpus(VectorSource(more_program_events[,2]))\n",
      "evs_more_corpus = Corpus(VectorSource(more_program_events[,3]))\n",
      "\n",
      "print(mut_more_corpus)\n",
      "print(evs_more_corpus)\n",
      "#print(more_program_events[,1])"
     ],
     "language": "python",
     "metadata": {},
     "outputs": [
      {
       "output_type": "display_data",
       "text": [
        "A corpus with 2333 text documents\n",
        "A corpus with 2333 text documents\n"
       ]
      }
     ],
     "prompt_number": 5
    },
    {
     "cell_type": "code",
     "collapsed": false,
     "input": [
      "%%R\n",
      "\n",
      "mut_more_dm  = DocumentTermMatrix(mut_more_corpus)\n",
      "evs_more_dm  = DocumentTermMatrix(evs_more_corpus)\n",
      "\n",
      "#print(robust_dm)\n",
      "#print(buggy_dm)\n",
      "\n",
      "sink(\"/dev/null\")\n",
      "\n",
      "mut_more_dm_df =  as.data.frame(inspect(mut_more_dm))\n",
      "#print(rownames(more_dm_df))\n",
      "#rownames(more_dm_df) = 1:nrow(more_dm)\n",
      "#print(rownames(more_dm_df))\n",
      "mut_more_dm_df[\"class\"] = cats\n",
      "\n",
      "evs_more_dm_df =  (as.data.frame(inspect(evs_more_dm)))\n",
      "#print(rownames(more_dm_df))\n",
      "#rownames(more_dm_df) = 1:nrow(more_dm)\n",
      "#print(rownames(more_dm_df))\n",
      "evs_more_dm_df[\"class\"] = cats\n",
      "    \n",
      "sink()"
     ],
     "language": "python",
     "metadata": {},
     "outputs": [],
     "prompt_number": 6
    },
    {
     "cell_type": "code",
     "collapsed": false,
     "input": [
      "%%R\n",
      "\n",
      "#dm_df = merge(robust_dm_df, buggy_dm_df,all=TRUE, sort=FALSE) \n",
      "\n",
      "#print(dm_df[1,])\n",
      "#print(nrow(dm_df))\n",
      "#dm_df[is.na(dm_df)] = 0\n",
      "\n",
      "#test = cbind(mut_more_dm_df[,names(mut_more_dm_df) != \"class\"], evs_more_dm_df)\n",
      "\n",
      "\n",
      "\n",
      "robust_cases = mut_more_dm_df[mut_more_dm_df$class == \"R\",]\n",
      "buggy_cases = mut_more_dm_df[mut_more_dm_df$class == \"B\",]\n",
      "\n",
      "n = nrow(robust_cases)\n",
      "\n",
      "rsample = sample(nrow(robust_cases))\n",
      "robust_cases = robust_cases[rsample[1:n],]\n",
      "\n",
      "rsample = sample(nrow(buggy_cases))\n",
      "buggy_cases = buggy_cases[rsample[1:n],]\n",
      "\n",
      "print(nrow(robust_cases))\n",
      "print(nrow(buggy_cases))\n",
      "\n",
      "#robust_cases = more_dm_df[more_dm_df$class == \"R\",]\n",
      "#buggy_cases  = more_dm_df[more_dm_df$class == \"B\",]\n",
      "\n",
      "#both_robust_cases = cbind(mut_robust_cases[,names(mut_robust_cases) != \"class\"], evs_robust_cases)\n",
      "\n",
      "#print(ncol(robust_cases))\n",
      "#print(ncol(buggy_cases))\n",
      "\n",
      "#print(nrow(robust_cases))\n",
      "#print(nrow(buggy_cases))\n",
      "\n",
      "#print(names(buggy_cases))\n",
      "\n",
      "#print(test[829,])"
     ],
     "language": "python",
     "metadata": {},
     "outputs": [
      {
       "output_type": "display_data",
       "text": [
        "[1] 837\n",
        "[1] 837\n"
       ]
      }
     ],
     "prompt_number": 7
    },
    {
     "cell_type": "code",
     "collapsed": false,
     "input": [
      "%%R\n",
      "\n",
      "library(\"caret\")\n",
      "\n",
      "test = rbind(robust_cases, buggy_cases)\n",
      "\n",
      "x_test = test[,names(test) != \"class\"]\n",
      "y_test  = test[,\"class\"]\n",
      "\n",
      "x_vars = names(x_test)\n",
      "\n",
      "m_vars = m_vars[m_vars != \"class\"]\n",
      "missing_vars = m_vars[! m_vars %in% x_vars]\n",
      "#print(missing_vars)\n",
      "x_test[,missing_vars] = 0\n",
      "\n",
      "#Test data summary\n",
      "print(table(Reference=y_test))\n",
      "\n",
      "load(file = paste(dir, \"svms\", \"mutation-classifier.svm\", sep=\"/\"))\n",
      "z = predict(m,x_test)\n",
      "\n",
      "print(\"Mutation only classifier:\")\n",
      "print(confusionMatrix(z, y_test))\n",
      "\n",
      "load(file = paste(dir, \"svms\", \"mutation-event-classifier.svm\", sep=\"/\"))\n",
      "z = predict(m,x_test)\n",
      "\n",
      "print(\"Mutation-event classifier:\")\n",
      "print(confusionMatrix(z, y_test))"
     ],
     "language": "python",
     "metadata": {},
     "outputs": [
      {
       "output_type": "display_data",
       "text": [
        "Reference\n",
        "  R   B \n",
        "837 837 \n",
        "[1] \"Mutation only classifier:\"\n",
        "Confusion Matrix and Statistics\n",
        "\n",
        "          Reference\n",
        "Prediction   R   B\n",
        "         R 496 197\n",
        "         B 341 640\n",
        "                                         \n",
        "               Accuracy : 0.6786         \n",
        "                 95% CI : (0.6556, 0.701)\n",
        "    No Information Rate : 0.5            \n",
        "    P-Value [Acc > NIR] : < 2.2e-16      \n",
        "                                         \n",
        "                  Kappa : 0.3572         \n",
        " Mcnemar's Test P-Value : 7.041e-10      \n",
        "                                         \n",
        "            Sensitivity : 0.5926         \n",
        "            Specificity : 0.7646         \n",
        "         Pos Pred Value : 0.7157         \n",
        "         Neg Pred Value : 0.6524         \n",
        "             Prevalence : 0.5000         \n",
        "         Detection Rate : 0.2963         \n",
        "   Detection Prevalence : 0.4140         \n",
        "      Balanced Accuracy : 0.6786         \n",
        "                                         \n",
        "       'Positive' Class : R              \n",
        "                                         \n",
        "[1] \"Mutation-event classifier:\"\n",
        "Confusion Matrix and Statistics\n",
        "\n",
        "          Reference\n",
        "Prediction   R   B\n",
        "         R  57   8\n",
        "         B 780 829\n",
        "                                         \n",
        "               Accuracy : 0.5293         \n",
        "                 95% CI : (0.505, 0.5534)\n",
        "    No Information Rate : 0.5            \n",
        "    P-Value [Acc > NIR] : 0.008862       \n",
        "                                         \n",
        "                  Kappa : 0.0585         \n",
        " Mcnemar's Test P-Value : < 2.2e-16      \n",
        "                                         \n",
        "            Sensitivity : 0.06810        \n",
        "            Specificity : 0.99044        \n",
        "         Pos Pred Value : 0.87692        \n",
        "         Neg Pred Value : 0.51523        \n",
        "             Prevalence : 0.50000        \n",
        "         Detection Rate : 0.03405        \n",
        "   Detection Prevalence : 0.03883        \n",
        "      Balanced Accuracy : 0.52927        \n",
        "                                         \n",
        "       'Positive' Class : R              \n",
        "                                         \n"
       ]
      }
     ],
     "prompt_number": 12
    },
    {
     "cell_type": "code",
     "collapsed": false,
     "input": [],
     "language": "python",
     "metadata": {},
     "outputs": []
    }
   ],
   "metadata": {}
  }
 ]
}