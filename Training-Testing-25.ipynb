{
 "metadata": {
  "name": "Training-Testing-25"
 },
 "nbformat": 3,
 "nbformat_minor": 0,
 "worksheets": [
  {
   "cells": [
    {
     "cell_type": "markdown",
     "metadata": {},
     "source": [
      "As usual, we start doing some magic to load R scripts."
     ]
    },
    {
     "cell_type": "code",
     "collapsed": false,
     "input": [
      "%load_ext rmagic "
     ],
     "language": "python",
     "metadata": {},
     "outputs": [
      {
       "output_type": "stream",
       "stream": "stdout",
       "text": [
        "During startup - Warning messages:\n",
        "1: Setting LC_TIME failed, using \"C\" \n",
        "2: Setting LC_MONETARY failed, using \"C\" \n",
        "3: Setting LC_PAPER failed, using \"C\" \n",
        "4: Setting LC_MEASUREMENT failed, using \"C\" \n"
       ]
      }
     ],
     "prompt_number": 1
    },
    {
     "cell_type": "code",
     "collapsed": false,
     "input": [
      "%%R\n",
      "\n",
      "dir = \"25-05-2014\"\n",
      "\n",
      "options(stringsAsFactors=F)\n",
      "\n",
      "mycon = gzcon(gzfile(paste(dir, \"filtered_traces.csv.gz\", sep=\"/\"), open=\"r\"))\n",
      "buggy_program_events = read.csv(textConnection(readLines(mycon)), sep=\"\\t\", header = F)\n",
      "\n",
      "print(nrow(buggy_program_events))\n",
      "\n",
      "#programs = c(levels(buggy_program_events[,1]))\n",
      "cats = factor(c(buggy_program_events[,4]), levels = c(\"R\",\"B\"))"
     ],
     "language": "python",
     "metadata": {},
     "outputs": [
      {
       "output_type": "display_data",
       "text": [
        "[1] 1999\n"
       ]
      }
     ],
     "prompt_number": 2
    },
    {
     "cell_type": "markdown",
     "metadata": {},
     "source": [
      "TODO: Add an explanation about program traces as documents.\n",
      "\n",
      "Now, we load the tm package and create the corpuses from the \"documents\". "
     ]
    },
    {
     "cell_type": "code",
     "collapsed": false,
     "input": [
      "%%R\n",
      "\n",
      "library(tm)\n",
      "\n",
      "mut_corpus = Corpus(VectorSource(c(buggy_program_events[,2])))\n",
      "evs_corpus = Corpus(VectorSource(c(buggy_program_events[,3])))\n",
      "\n",
      "print(mut_corpus)\n",
      "print(evs_corpus)"
     ],
     "language": "python",
     "metadata": {},
     "outputs": [
      {
       "output_type": "display_data",
       "text": [
        "A corpus with 1999 text documents\n",
        "A corpus with 1999 text documents\n"
       ]
      }
     ],
     "prompt_number": 3
    },
    {
     "cell_type": "markdown",
     "metadata": {},
     "source": [
      "Now, it is time to create the document matrixes, and convert them to data frames adding its correspondent classes. The function \"inspect\" to convert the document term matrix into a data frame prints some information that we don't care, so we discard printed messages in this step."
     ]
    },
    {
     "cell_type": "code",
     "collapsed": false,
     "input": [
      "%%R\n",
      "\n",
      "library(\"RWeka\")\n",
      "options(mc.cores=1)\n",
      "\n",
      "\n",
      "mut_dm = DocumentTermMatrix(mut_corpus)\n",
      "\n",
      "sink(\"/dev/null\")\n",
      "\n",
      "mut_dm_df =  as.data.frame(inspect(mut_dm))\n",
      "rownames(mut_dm_df) = 1:nrow(mut_dm)\n",
      "mut_dm_df[\"class\"] = cats\n",
      "\n",
      "sink()\n",
      "\n",
      "BigramTokenizer <- function(x) NGramTokenizer(x, Weka_control(min = 2, max = 2, delimiters=\" \"))\n",
      "evs_dm = DocumentTermMatrix(evs_corpus, control = list(bounds = list(global = c(1,Inf)), tokenize = BigramTokenizer))\n",
      "print(evs_dm)\n",
      "\n",
      "sink(\"/dev/null\")\n",
      "\n",
      "sorted_dm = sort(colSums(as.matrix(evs_dm)), decreasing=TRUE)\n",
      "\n",
      "evs_dm_df =  as.data.frame(inspect(evs_dm))\n",
      "#rownames(evs_dm_df) = 1:nrow(evs_dm)\n",
      "#evs_dm_df = evs_dm_df[,cols]\n",
      "#print(2)\n",
      "evs_dm_df[\"class\"] = cats\n",
      "\n",
      "sink()\n"
     ],
     "language": "python",
     "metadata": {},
     "outputs": [],
     "prompt_number": "*"
    },
    {
     "cell_type": "markdown",
     "metadata": {},
     "source": [
      "To finish preparing the data, we need make sure we are using the same variables for all the corpuses in the mutation and events data."
     ]
    },
    {
     "cell_type": "code",
     "collapsed": false,
     "input": [
      "%%R\n",
      "\n",
      "# Mutation data\n",
      "\n",
      "mut_robust_cases = mut_dm_df[mut_dm_df$class == \"R\",]\n",
      "mut_buggy_cases  = mut_dm_df[mut_dm_df$class == \"B\",]\n",
      "\n",
      "# Event data\n",
      "\n",
      "evs_robust_cases = evs_dm_df[evs_dm_df$class == \"R\",]\n",
      "evs_buggy_cases  = evs_dm_df[evs_dm_df$class == \"B\",]\n",
      "\n",
      "both_robust_cases = cbind(mut_robust_cases[,names(mut_robust_cases) != \"class\"], evs_robust_cases)\n",
      "both_buggy_cases = cbind(mut_buggy_cases[,names(mut_buggy_cases) != \"class\"], evs_buggy_cases)\n",
      "\n",
      "print(nrow(both_robust_cases))\n",
      "print(nrow(both_buggy_cases))\n",
      "\n",
      "print(ncol(both_robust_cases))\n",
      "print(ncol(both_buggy_cases))"
     ],
     "language": "python",
     "metadata": {},
     "outputs": [
      {
       "output_type": "display_data",
       "text": [
        "[1] 1278\n",
        "[1] 721\n",
        "[1] 1471\n",
        "[1] 1471\n"
       ]
      }
     ],
     "prompt_number": 5
    },
    {
     "cell_type": "code",
     "collapsed": false,
     "input": [
      "%%R\n",
      "\n",
      "robust_cases = both_robust_cases\n",
      "buggy_cases = both_buggy_cases\n",
      "\n",
      "#rm(buggy_program_events)\n",
      "#gc()"
     ],
     "language": "python",
     "metadata": {},
     "outputs": [],
     "prompt_number": 6
    },
    {
     "cell_type": "markdown",
     "metadata": {},
     "source": [
      "now, we are ready to select train and test.."
     ]
    },
    {
     "cell_type": "code",
     "collapsed": false,
     "input": [
      "%%R\n",
      "\n",
      "train_size = 500\n",
      "test_size = nrow(buggy_cases) - train_size\n",
      "\n",
      "print(train_size)\n",
      "print(test_size)\n",
      "\n",
      "n = nrow(buggy_cases)\n",
      "#rsample = 1:n\n",
      "rsample = sample(n)\n",
      "\n",
      "train_sample = rsample[1:(train_size)] \n",
      "test_sample = rsample[(train_size+1):(train_size+test_size)]\n",
      "\n",
      "#print(rsample)\n",
      "\n",
      "buggy_train = buggy_cases[train_sample,]\n",
      "buggy_test  = buggy_cases[test_sample,]\n",
      "\n",
      "print(nrow(buggy_train))\n",
      "print(nrow(buggy_test))\n",
      "\n",
      "# robust train and test\n",
      "\n",
      "n = nrow(robust_cases)\n",
      "#rsample = 1:n\n",
      "rsample = sample(n)\n",
      "\n",
      "#print(rsample)\n",
      "\n",
      "# n cases are selected to keep the train dataset balanced\n",
      "train_sample = rsample[1:(train_size)]\n",
      "test_sample =  rsample[(train_size+1):(train_size+test_size)]\n",
      "more_test_sample = rsample[(train_size+test_size+1):n]\n",
      "\n",
      "robust_train = robust_cases[train_sample,]\n",
      "robust_test  = robust_cases[test_sample,]\n",
      "robust_more_test = robust_cases[more_test_sample,]\n",
      "\n",
      "print(nrow(robust_train))\n",
      "print(nrow(robust_test))\n",
      "\n",
      "train = rbind(buggy_train, robust_train)\n",
      "test  = rbind(buggy_test, robust_test)\n",
      "#more_test = robust_more_test\n",
      "\n",
      "xy_train = train\n",
      "#xy_train[,\"class\"] = factor(train[,\"class\"])\n",
      "x_test = test[,names(test) != \"class\"]\n",
      "y_test  = test[,\"class\"]\n",
      "\n",
      "#print(more_test[1,])"
     ],
     "language": "python",
     "metadata": {},
     "outputs": [
      {
       "output_type": "display_data",
       "text": [
        "[1] 500\n",
        "[1] 221\n",
        "[1] 500\n",
        "[1] 221\n",
        "[1] 500\n",
        "[1] 221\n"
       ]
      }
     ],
     "prompt_number": 7
    },
    {
     "cell_type": "markdown",
     "metadata": {},
     "source": [
      "Finally, we are ready to train and test a knn model:"
     ]
    },
    {
     "cell_type": "markdown",
     "metadata": {},
     "source": [
      "or a SVM .."
     ]
    },
    {
     "cell_type": "code",
     "collapsed": false,
     "input": [
      "%%R\n",
      "library(\"e1071\")\n",
      "library(\"caret\")\n",
      "\n",
      "#print(names(tail(sorted_dm, -700)))\n",
      "\n",
      "mseq = seq(100,100,2)#seq(25,800,25)\n",
      "res = c()\n",
      "\n",
      "for (n in mseq){\n",
      "  exc_vars = names(tail(sorted_dm, -n))\n",
      "  inc_vars = names(xy_train)[!(names(xy_train) %in% exc_vars)]\n",
      "  #print(inc_vars)\n",
      "  #m = svm(class ~., data=xy_train[,inc_vars])\n",
      "  #mtrain = xy_train\n",
      "  #mtrain[,setdiff(inc_vars,c(\"class\"))] = sign(mtrain[,setdiff(inc_vars,c(\"class\"))])\n",
      "  \n",
      "  m = svm(class ~., data=xy_train[,inc_vars], gamma=0.001, cost=1)\n",
      "  #m = tune.svm(class~., data = xy_train[,inc_vars],  gamma = 10^(-3:-1), cost = 10^(-1:0))\n",
      "  #print(summary(m))\n",
      "  #m = m$best.model\n",
      "  \n",
      "  #x_test_aug = xy_train\n",
      "  #x_test_aug[,missing_vars] = 0\n",
      "  \n",
      "  z = predict(m,x_test[,setdiff(inc_vars,c(\"class\"))])\n",
      "  \n",
      "  #print(m)\n",
      " \n",
      "  res = c(res,confusionMatrix(table(pred=z, true=y_test))$overall[1])\n",
      "  \n",
      "  #z = predict(m,x_more_test)\n",
      "  #print(confusionMatrix(table(pred=z, true=y_more_test))$overall[1])\n",
      "}\n",
      "\n",
      "print(data.frame(n=mseq, err=res))"
     ],
     "language": "python",
     "metadata": {},
     "outputs": [
      {
       "output_type": "display_data",
       "text": [
        "Loading required package: lattice\n",
        "Loading required package: ggplot2\n",
        "           n       err\n",
        "Accuracy 100 0.5791855\n"
       ]
      }
     ],
     "prompt_number": 9
    },
    {
     "cell_type": "code",
     "collapsed": false,
     "input": [
      "%%R\n",
      "\n",
      "\n",
      "plot(data.frame(n=mseq, err=res))\n",
      "#scores = t(abs(t(m$coefs) %*% m$SV))\n",
      "#inds = sort(scores, decreasing=TRUE, index.return = TRUE)$i\n",
      "#print(names(scores[inds,][1:50]))"
     ],
     "language": "python",
     "metadata": {},
     "outputs": [
      {
       "output_type": "display_data",
       "png": "[encoded data removed]"
      }
     ],
     "prompt_number": 35
    },
    {
     "cell_type": "code",
     "collapsed": false,
     "input": [
      "%%R\n",
      "m_vars = names(xy_train)\n",
      "\n",
      "save(m_vars, file=paste(dir, \"svms\", \"mvars.data\", sep=\"/\"))\n",
      "save(m, file=paste(dir, \"svms\", \"mutation-event-classifier.svm\", sep=\"/\"))"
     ],
     "language": "python",
     "metadata": {},
     "outputs": [],
     "prompt_number": 13
    },
    {
     "cell_type": "code",
     "collapsed": false,
     "input": [],
     "language": "python",
     "metadata": {},
     "outputs": []
    }
   ],
   "metadata": {}
  }
 ]
}