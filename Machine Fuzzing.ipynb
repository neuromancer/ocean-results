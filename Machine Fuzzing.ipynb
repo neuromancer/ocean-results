{
 "metadata": {
  "name": "Machine Fuzzing"
 },
 "nbformat": 3,
 "nbformat_minor": 0,
 "worksheets": [
  {
   "cells": [
    {
     "cell_type": "markdown",
     "metadata": {},
     "source": [
      "Acording to its definition:\n",
      "\n",
      "\"Fuzz testing or fuzzing is a software testing technique, often automated or semi-automated,\n",
      "that involves providing invalid, unexpected, or random data to the inputs of a computer program.\""
     ]
    },
    {
     "cell_type": "markdown",
     "metadata": {},
     "source": [
      "In a simplifed formalization, let $p$ be a program and $i$ an input for that program, after a mutation $m$ is selected, the testing process can be abstracted with a function $f$ ssss $\\checkmark$ $\\times$\n",
      "The fuzzing is a process to select:"
     ]
    },
    {
     "cell_type": "markdown",
     "metadata": {},
     "source": [
      "The function test can be defined as:\n",
      "$$test(p,m,i) = \\mbox{ if } p(m(i)) \\mbox{ finish } = \\checkmark) \\mbox{ then  ... else } $$ "
     ]
    }
   ],
   "metadata": {}
  }
 ]
}