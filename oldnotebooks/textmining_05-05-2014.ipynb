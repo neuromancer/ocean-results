{
 "metadata": {
  "name": "textmining_05-05-2014"
 },
 "nbformat": 3,
 "nbformat_minor": 0,
 "worksheets": [
  {
   "cells": [
    {
     "cell_type": "code",
     "collapsed": false,
     "input": [
      "%load_ext rmagic "
     ],
     "language": "python",
     "metadata": {},
     "outputs": [
      {
       "output_type": "stream",
       "stream": "stdout",
       "text": [
        "During startup - Warning messages:\n",
        "1: Setting LC_TIME failed, using \"C\" \n",
        "2: Setting LC_MONETARY failed, using \"C\" \n",
        "3: Setting LC_PAPER failed, using \"C\" \n",
        "4: Setting LC_MEASUREMENT failed, using \"C\" \n"
       ]
      }
     ],
     "prompt_number": 1
    },
    {
     "cell_type": "code",
     "collapsed": false,
     "input": [
      "%%R\n",
      "\n",
      "dir = \"05-05-2014\"\n",
      "mycvs = paste(dir, \"robust_traces.csv\", sep=\"/\")\n",
      "robust_program_events = read.csv(mycvs, sep=\"\\t\", header = F)\n",
      "\n",
      "\n",
      "mycvs = paste(dir, \"buggy_traces.csv\", sep=\"/\")\n",
      "buggy_program_events = read.csv(mycvs, sep=\"\\t\", header = F)\n",
      "\n",
      "print(nrow(robust_program_events))\n",
      "print(nrow(buggy_program_events))"
     ],
     "language": "python",
     "metadata": {},
     "outputs": [
      {
       "output_type": "display_data",
       "text": [
        "[1] 267\n",
        "[1] 260\n"
       ]
      }
     ],
     "prompt_number": 4
    },
    {
     "cell_type": "code",
     "collapsed": false,
     "input": [
      "%%R\n",
      "\n",
      "print(robust_program_events[1,])"
     ],
     "language": "python",
     "metadata": {},
     "outputs": [
      {
       "output_type": "display_data",
       "text": [
        "               V1\n",
        "1 /usr/bin/sqlite\n",
        "                                                                                                                                                                                                                                                                                                                                                                                                                                                                                                                                                                                                                                                                                                                                                                                                                                                                                                                                                                                                                                                                                                                                                                                                                                                                                                                                                               V2\n",
        "1 signal:ret_val=NPtr32  signal:1=GPtr32  signal:0=Num32B8  getuid:ret_val=Num32B16  getuid:0=Top32  strlen:ret_val=Num32B8  strlen:0=HPtr32  malloc:0=Num32B8  malloc:ret_val=HPtr32  strcpy:1=HPtr32  strcpy:0=HPtr32  strcpy:ret_val=HPtr32  malloc:0=Num32B8  malloc:ret_val=HPtr32  sprintf:1=GPtr32  sprintf:0=HPtr32  sprintf:ret_val=Num32B8  free:0=HPtr32  free:ret_val=Top32  fopen:ret_val=NPtr32  fopen:1=GPtr32  fopen:0=HPtr32  fputs:0=HPtr32  fputs:1=LPtr32  fputs:ret_val=Num32B8  fputs:0=SPtr32  fputs:1=LPtr32  fputs:ret_val=Num32B8  fputs:0=HPtr32  fputs:1=LPtr32  fputs:ret_val=Num32B8  fputs:0=SPtr32  fputs:1=LPtr32  fputs:ret_val=Num32B8  fputs:0=HPtr32  fputs:1=LPtr32  fputs:ret_val=Num32B8  fputs:0=SPtr32  fputs:1=LPtr32  fputs:ret_val=Num32B8  fputs:0=SPtr32  fputs:1=LPtr32  fputs:ret_val=Num32B8  fputc:0=Num32B8  fputc:1=LPtr32  fputc:ret_val=Num32B8  fputs:0=HPtr32  fputs:1=LPtr32  fputs:ret_val=Num32B8  fputs:0=SPtr32  fputs:1=LPtr32  fputs:ret_val=Num32B8  fputs:0=HPtr32  fputs:1=LPtr32  fputs:ret_val=Num32B8  fputs:0=SPtr32  fputs:1=LPtr32  fputs:ret_val=Num32B8  fputs:0=HPtr32  fputs:1=LPtr32  fputs:ret_val=Num32B8  fputs:0=SPtr32  fputs:1=LPtr32  fputs:ret_val=Num32B8  fputs:0=SPtr32  fputs:1=LPtr32  fputs:ret_val=Num32B8  fputc:0=Num32B8  fputc:1=LPtr32  fputc:ret_val=Num32B8  \n"
       ]
      }
     ],
     "prompt_number": 5
    },
    {
     "cell_type": "markdown",
     "metadata": {},
     "source": [
      "TODO: Add an explanation about program traces as documents.\n",
      "\n",
      "Now, we load the tm package and create the corpuses from the \"documents\""
     ]
    },
    {
     "cell_type": "code",
     "collapsed": false,
     "input": [
      "%%R\n",
      "\n",
      "library(tm)\n",
      "\n",
      "robust_corpus = Corpus(VectorSource(robust_program_events[,2]))\n",
      "buggy_corpus  = Corpus(VectorSource(buggy_program_events[,2]))\n",
      "\n",
      "print(robust_corpus)\n",
      "print(buggy_corpus)"
     ],
     "language": "python",
     "metadata": {},
     "outputs": [
      {
       "output_type": "display_data",
       "text": [
        "A corpus with 267 text documents\n",
        "A corpus with 260 text documents\n"
       ]
      }
     ],
     "prompt_number": 6
    },
    {
     "cell_type": "markdown",
     "metadata": {},
     "source": [
      "Now, it is time to create the document matrixes, and convert them to data frames adding its classes."
     ]
    },
    {
     "cell_type": "code",
     "collapsed": false,
     "input": [
      "%%R\n",
      "\n",
      "robust_dm = DocumentTermMatrix(robust_corpus)\n",
      "buggy_dm  = DocumentTermMatrix(buggy_corpus)\n",
      "\n",
      "#print(robust_dm)\n",
      "#print(buggy_dm)\n",
      "\n",
      "sink(\"/dev/null\")\n",
      "\n",
      "robust_dm_df =  as.data.frame(inspect(robust_dm))\n",
      "rownames(robust_dm_df) = 1:nrow(robust_dm)\n",
      "robust_dm_df[\"class\"] = \"robust\"\n",
      "    \n",
      "buggy_dm_df =  as.data.frame(inspect(buggy_dm))\n",
      "rownames(buggy_dm_df) = 1:nrow(buggy_dm)\n",
      "buggy_dm_df[\"class\"] = \"buggy\"\n",
      "    \n",
      "sink()\n",
      "\n",
      "#print(colnames(robust_dm_df))\n",
      "#print(colnames(buggy_dm_df))"
     ],
     "language": "python",
     "metadata": {},
     "outputs": [],
     "prompt_number": 7
    },
    {
     "cell_type": "markdown",
     "metadata": {},
     "source": [
      "but we need make sure we are using the same variables for both corpuses."
     ]
    },
    {
     "cell_type": "code",
     "collapsed": false,
     "input": [
      "%%R\n",
      "\n",
      "dm_df = merge(robust_dm_df, buggy_dm_df,all=TRUE, sort=FALSE) \n",
      "\n",
      "#print(dm_df[1,])\n",
      "#print(nrow(dm_df))\n",
      "dm_df[is.na(dm_df)] = 0\n",
      "\n",
      "robust_cases = dm_df[dm_df$class == \"robust\",]\n",
      "buggy_cases  = dm_df[dm_df$class == \"buggy\",]\n",
      "\n",
      "print(nrow(robust_cases))\n",
      "print(nrow(buggy_cases))"
     ],
     "language": "python",
     "metadata": {},
     "outputs": [
      {
       "output_type": "display_data",
       "text": [
        "[1] 267\n",
        "[1] 260\n"
       ]
      }
     ],
     "prompt_number": 8
    },
    {
     "cell_type": "markdown",
     "metadata": {},
     "source": [
      "now, we are ready to select train and test.."
     ]
    },
    {
     "cell_type": "code",
     "collapsed": false,
     "input": [
      "%%R\n",
      "\n",
      "train_size = 200\n",
      "\n",
      "# buggy train and test\n",
      "\n",
      "n = nrow(buggy_cases)\n",
      "#rsample = sample(n)\n",
      "\n",
      "# 100 cases are selected to keep the train dataset balanced\n",
      "train_sample = 1:train_size #rsample[1:as.integer(n*0.45)] \n",
      "test_sample = (train_size+1):n #rsample[as.integer(n*0.45+1):n]\n",
      "\n",
      "buggy_train = buggy_cases[train_sample,]\n",
      "buggy_test  = buggy_cases[test_sample,]\n",
      "\n",
      "print(nrow(buggy_train))\n",
      "print(nrow(buggy_test))\n",
      "\n",
      "# robust train and test\n",
      "\n",
      "n = nrow(robust_cases)\n",
      "#rsample = sample(n)\n",
      "\n",
      "# 100 cases are selected to keep the train dataset balanced\n",
      "train_sample = 1:train_size#rsample[1:as.integer(n*0.75)]\n",
      "test_sample = (train_size+1):n #rsample[as.integer(n*0.75+1):n]\n",
      "\n",
      "robust_train = robust_cases[train_sample,]\n",
      "robust_test  = robust_cases[test_sample,]\n",
      "\n",
      "print(nrow(robust_train))\n",
      "print(nrow(robust_test))\n",
      "\n",
      "train = rbind(buggy_train, robust_train)\n",
      "test  = rbind(buggy_test, robust_test)"
     ],
     "language": "python",
     "metadata": {},
     "outputs": [
      {
       "output_type": "display_data",
       "text": [
        "[1] 200\n",
        "[1] 60\n",
        "[1] 200\n",
        "[1] 67\n"
       ]
      }
     ],
     "prompt_number": 11
    },
    {
     "cell_type": "markdown",
     "metadata": {},
     "source": [
      "Finally, we are ready to train and test a knn model:"
     ]
    },
    {
     "cell_type": "code",
     "collapsed": false,
     "input": [
      "%%R\n",
      "\n",
      "#print(round(importance(rf),2))\n",
      "\n",
      "library(\"class\")\n",
      "\n",
      "x_train = train[,names(train) != \"class\"]\n",
      "x_test  = test[,names(test) != \"class\"]\n",
      "y_train = train[,\"class\"]\n",
      "y_test  = test[,\"class\"]\n",
      "\n",
      "#print(y)\n",
      "for (k in 1:10) {\n",
      "  print(k)\n",
      "  z = knn(x_train,x_test, y_train, k, use.all = FALSE)\n",
      "  print(z)\n",
      "  #print(test[,\"class\"])\n",
      "  print(table(z, y_test))\n",
      "}"
     ],
     "language": "python",
     "metadata": {},
     "outputs": [
      {
       "output_type": "display_data",
       "text": [
        "[1] 1\n",
        "  [1] buggy  robust buggy  buggy  buggy  robust buggy  buggy  robust robust\n",
        " [11] robust robust robust robust robust buggy  buggy  buggy  buggy  buggy \n",
        " [21] buggy  buggy  buggy  buggy  buggy  buggy  buggy  buggy  buggy  buggy \n",
        " [31] buggy  buggy  buggy  buggy  buggy  buggy  robust robust buggy  robust\n",
        " [41] robust robust robust robust buggy  robust robust robust robust buggy \n",
        " [51] buggy  robust robust robust buggy  robust robust robust robust robust\n",
        " [61] buggy  buggy  robust robust buggy  robust robust robust robust robust\n",
        " [71] robust buggy  robust robust robust robust robust robust robust robust\n",
        " [81] robust buggy  robust robust robust robust buggy  robust robust robust\n",
        " [91] robust robust robust robust robust robust robust robust robust robust\n",
        "[101] robust robust robust robust robust buggy  robust buggy  buggy  buggy \n",
        "[111] buggy  robust buggy  robust robust robust robust robust robust robust\n",
        "[121] robust robust robust robust robust robust robust\n",
        "Levels: buggy robust\n",
        "        y_test\n",
        "z        buggy robust\n",
        "  buggy     32     12\n",
        "  robust    28     55\n",
        "[1] 2\n",
        "  [1] robust robust buggy  buggy  buggy  robust buggy  buggy  robust robust\n",
        " [11] robust robust robust robust robust buggy  buggy  buggy  buggy  buggy \n",
        " [21] buggy  buggy  buggy  buggy  buggy  buggy  buggy  buggy  buggy  buggy \n",
        " [31] buggy  buggy  buggy  buggy  buggy  buggy  robust robust robust robust\n",
        " [41] robust robust robust robust buggy  robust robust robust robust buggy \n",
        " [51] buggy  robust robust robust buggy  robust robust robust robust robust\n",
        " [61] buggy  buggy  robust robust buggy  robust robust robust robust robust\n",
        " [71] robust buggy  robust robust robust robust robust robust robust robust\n",
        " [81] robust buggy  robust robust robust robust buggy  robust robust robust\n",
        " [91] robust robust robust robust buggy  robust robust robust robust robust\n",
        "[101] robust robust robust robust buggy  buggy  robust buggy  buggy  buggy \n",
        "[111] buggy  robust buggy  robust robust robust buggy  robust robust robust\n",
        "[121] robust robust robust robust robust robust robust\n",
        "Levels: buggy robust\n",
        "        y_test\n",
        "z        buggy robust\n",
        "  buggy     30     15\n",
        "  robust    30     52\n",
        "[1] 3\n",
        "  [1] buggy  robust buggy  buggy  buggy  robust buggy  buggy  robust robust\n",
        " [11] robust robust robust robust robust buggy  buggy  buggy  buggy  buggy \n",
        " [21] buggy  buggy  buggy  buggy  buggy  buggy  buggy  buggy  buggy  buggy \n",
        " [31] buggy  buggy  buggy  buggy  buggy  buggy  robust robust buggy  robust\n",
        " [41] robust robust robust robust buggy  robust robust robust robust buggy \n",
        " [51] buggy  robust robust robust buggy  robust robust robust robust robust\n",
        " [61] robust buggy  robust robust buggy  robust robust robust robust robust\n",
        " [71] robust buggy  robust robust robust robust robust robust robust robust\n",
        " [81] robust buggy  robust robust robust robust buggy  robust buggy  robust\n",
        " [91] robust robust robust robust robust robust robust robust robust robust\n",
        "[101] robust robust robust robust robust robust robust buggy  buggy  buggy \n",
        "[111] buggy  robust robust robust robust robust robust buggy  robust robust\n",
        "[121] robust robust robust robust robust robust robust\n",
        "Levels: buggy robust\n",
        "        y_test\n",
        "z        buggy robust\n",
        "  buggy     32     11\n",
        "  robust    28     56\n",
        "[1] 4\n",
        "  [1] buggy  robust robust robust robust robust buggy  buggy  robust robust\n",
        " [11] robust buggy  robust robust buggy  buggy  buggy  buggy  buggy  buggy \n",
        " [21] buggy  buggy  buggy  buggy  buggy  buggy  robust buggy  buggy  buggy \n",
        " [31] buggy  buggy  buggy  buggy  buggy  buggy  robust buggy  buggy  robust\n",
        " [41] robust robust robust robust buggy  robust robust robust robust buggy \n",
        " [51] buggy  robust robust robust buggy  robust robust robust robust robust\n",
        " [61] robust buggy  robust robust buggy  robust robust robust robust robust\n",
        " [71] robust buggy  robust robust robust robust robust robust robust robust\n",
        " [81] robust buggy  robust robust robust robust buggy  robust buggy  robust\n",
        " [91] robust robust robust robust robust robust robust robust robust robust\n",
        "[101] robust robust robust robust robust robust robust buggy  buggy  buggy \n",
        "[111] buggy  robust robust robust robust robust robust buggy  robust robust\n",
        "[121] robust robust robust robust robust robust robust\n",
        "Levels: buggy robust\n",
        "        y_test\n",
        "z        buggy robust\n",
        "  buggy     31     11\n",
        "  robust    29     56\n",
        "[1] 5\n",
        "  [1] robust robust robust robust robust robust robust buggy  robust robust\n",
        " [11] robust buggy  robust robust robust buggy  buggy  buggy  buggy  buggy \n",
        " [21] buggy  buggy  buggy  buggy  buggy  buggy  buggy  buggy  buggy  buggy \n",
        " [31] buggy  buggy  buggy  buggy  buggy  buggy  robust robust buggy  robust\n",
        " [41] robust robust robust robust buggy  robust robust robust robust buggy \n",
        " [51] buggy  robust robust robust buggy  robust robust robust robust robust\n",
        " [61] robust robust robust robust buggy  robust robust robust robust robust\n",
        " [71] robust buggy  robust robust robust robust robust robust robust robust\n",
        " [81] robust buggy  robust robust robust robust buggy  robust buggy  robust\n",
        " [91] robust robust robust robust robust robust robust robust robust robust\n",
        "[101] robust robust robust robust robust robust robust buggy  buggy  buggy \n",
        "[111] buggy  robust robust robust robust robust robust buggy  robust robust\n",
        "[121] robust robust robust robust robust robust robust\n",
        "Levels: buggy robust\n",
        "        y_test\n",
        "z        buggy robust\n",
        "  buggy     28     10\n",
        "  robust    32     57\n",
        "[1] 6\n",
        "  [1] robust robust robust robust robust robust robust buggy  robust buggy \n",
        " [11] robust buggy  robust robust buggy  buggy  buggy  buggy  buggy  buggy \n",
        " [21] buggy  buggy  buggy  buggy  buggy  buggy  buggy  buggy  buggy  buggy \n",
        " [31] buggy  buggy  buggy  buggy  buggy  buggy  robust robust buggy  robust\n",
        " [41] robust robust robust robust buggy  robust robust robust robust buggy \n",
        " [51] buggy  robust robust robust buggy  robust robust robust robust robust\n",
        " [61] robust robust robust robust buggy  robust robust robust robust robust\n",
        " [71] robust buggy  robust robust robust robust robust robust robust robust\n",
        " [81] robust buggy  robust robust buggy  robust buggy  buggy  buggy  robust\n",
        " [91] robust robust robust robust robust robust robust robust robust robust\n",
        "[101] robust robust robust robust robust robust robust buggy  buggy  buggy \n",
        "[111] buggy  robust robust robust robust robust robust buggy  robust robust\n",
        "[121] robust robust robust robust robust robust robust\n",
        "Levels: buggy robust\n",
        "        y_test\n",
        "z        buggy robust\n",
        "  buggy     30     12\n",
        "  robust    30     55\n",
        "[1] 7\n",
        "  [1] robust robust robust robust robust robust robust buggy  robust robust\n",
        " [11] robust buggy  robust robust robust buggy  buggy  buggy  buggy  buggy \n",
        " [21] buggy  buggy  buggy  buggy  buggy  buggy  buggy  buggy  buggy  buggy \n",
        " [31] buggy  buggy  buggy  buggy  buggy  buggy  robust robust robust robust\n",
        " [41] robust robust robust robust buggy  robust robust robust robust buggy \n",
        " [51] buggy  robust robust robust buggy  robust robust robust robust robust\n",
        " [61] robust robust robust robust buggy  robust robust robust robust robust\n",
        " [71] robust buggy  robust robust robust robust robust robust robust robust\n",
        " [81] robust buggy  robust robust robust robust buggy  robust buggy  robust\n",
        " [91] robust robust robust robust robust robust robust robust robust robust\n",
        "[101] robust robust robust robust robust robust robust buggy  buggy  buggy \n",
        "[111] buggy  robust robust robust robust robust robust robust robust robust\n",
        "[121] robust robust robust robust robust robust robust\n",
        "Levels: buggy robust\n",
        "        y_test\n",
        "z        buggy robust\n",
        "  buggy     27      9\n",
        "  robust    33     58\n",
        "[1] 8\n",
        "  [1] robust robust robust robust robust robust robust buggy  robust robust\n",
        " [11] robust robust robust robust robust buggy  buggy  buggy  buggy  buggy \n",
        " [21] buggy  buggy  buggy  buggy  buggy  buggy  buggy  buggy  buggy  buggy \n",
        " [31] buggy  robust buggy  buggy  buggy  buggy  robust robust robust robust\n",
        " [41] robust robust robust robust buggy  robust robust robust robust buggy \n",
        " [51] buggy  robust robust robust buggy  robust robust robust robust robust\n",
        " [61] robust robust robust robust buggy  robust buggy  robust robust robust\n",
        " [71] robust buggy  robust robust robust robust robust robust robust robust\n",
        " [81] robust buggy  robust robust buggy  robust buggy  buggy  buggy  robust\n",
        " [91] robust robust robust robust robust robust robust robust robust buggy \n",
        "[101] robust robust robust robust robust robust robust buggy  buggy  buggy \n",
        "[111] buggy  robust robust robust robust robust robust robust robust robust\n",
        "[121] robust robust robust robust robust robust robust\n",
        "Levels: buggy robust\n",
        "        y_test\n",
        "z        buggy robust\n",
        "  buggy     25     13\n",
        "  robust    35     54\n",
        "[1] 9\n",
        "  [1] robust buggy  robust robust robust robust robust buggy  robust buggy \n",
        " [11] robust robust robust robust robust robust buggy  buggy  robust buggy \n",
        " [21] buggy  buggy  buggy  buggy  buggy  robust buggy  buggy  buggy  buggy \n",
        " [31] buggy  robust buggy  buggy  buggy  buggy  robust robust robust robust\n",
        " [41] robust robust robust robust buggy  robust robust robust robust buggy \n",
        " [51] buggy  robust robust robust buggy  robust robust robust robust robust\n",
        " [61] robust robust robust robust buggy  buggy  buggy  robust robust robust\n",
        " [71] robust buggy  robust robust robust robust robust robust robust robust\n",
        " [81] robust buggy  robust robust robust robust buggy  robust buggy  robust\n",
        " [91] robust robust robust robust robust robust robust robust robust buggy \n",
        "[101] robust robust robust robust robust robust robust buggy  buggy  buggy \n",
        "[111] buggy  robust robust robust robust robust robust robust robust robust\n",
        "[121] robust robust robust robust robust robust robust\n",
        "Levels: buggy robust\n",
        "        y_test\n",
        "z        buggy robust\n",
        "  buggy     24     12\n",
        "  robust    36     55\n",
        "[1] 10\n",
        "  [1] robust buggy  robust buggy  robust robust robust robust robust buggy \n",
        " [11] robust robust robust robust robust buggy  buggy  buggy  buggy  buggy \n",
        " [21] buggy  buggy  buggy  buggy  buggy  buggy  buggy  buggy  buggy  buggy \n",
        " [31] buggy  robust buggy  buggy  buggy  buggy  robust robust robust robust\n",
        " [41] robust robust robust robust buggy  robust robust robust robust buggy \n",
        " [51] buggy  robust robust robust robust robust robust robust robust robust\n",
        " [61] buggy  robust robust robust buggy  buggy  buggy  robust robust robust\n",
        " [71] robust buggy  robust robust robust robust robust robust robust robust\n",
        " [81] robust buggy  robust robust robust robust buggy  robust buggy  robust\n",
        " [91] robust robust robust robust robust robust robust robust robust buggy \n",
        "[101] robust robust robust robust robust buggy  robust buggy  buggy  buggy \n",
        "[111] buggy  robust robust robust robust robust robust robust robust robust\n",
        "[121] robust robust robust robust robust robust robust\n",
        "Levels: buggy robust\n",
        "        y_test\n",
        "z        buggy robust\n",
        "  buggy     26     14\n",
        "  robust    34     53\n"
       ]
      }
     ],
     "prompt_number": 13
    },
    {
     "cell_type": "markdown",
     "metadata": {},
     "source": [
      "or a random forest.."
     ]
    },
    {
     "cell_type": "code",
     "collapsed": false,
     "input": [
      "%%R\n",
      "library(\"e1071\")\n",
      "\n",
      "xy_train = train#[,names(train) != \"class\"]\n",
      "xy_train[,\"class\"] = factor(train[,\"class\"])\n",
      "x_test = test[,names(test) != \"class\"]\n",
      "#y_train = train[,\"class\"]\n",
      "y_test  = test[,\"class\"]\n",
      "\n",
      "m = svm(class ~., data=xy_train, gamma=0.001, cost=10)\n",
      "#m = tune.svm(class~., data = xy_train,  gamma = 10^(-6:-1), cost = 10^(1:2))\n",
      "print(summary(m))\n",
      "\n",
      "z = predict(m,x_test)\n",
      "print(z)\n",
      "print(table(z, y_test))"
     ],
     "language": "python",
     "metadata": {},
     "outputs": [
      {
       "output_type": "display_data",
       "text": [
        "\n",
        "Call:\n",
        "svm(formula = class ~ ., data = xy_train, gamma = 0.001, cost = 10)\n",
        "\n",
        "\n",
        "Parameters:\n",
        "   SVM-Type:  C-classification \n",
        " SVM-Kernel:  radial \n",
        "       cost:  10 \n",
        "      gamma:  0.001 \n",
        "\n",
        "Number of Support Vectors:  246\n",
        "\n",
        " ( 110 136 )\n",
        "\n",
        "\n",
        "Number of Classes:  2 \n",
        "\n",
        "Levels: \n",
        " buggy robust\n",
        "\n",
        "\n",
        "\n",
        "   468    469    470    471    472    473    474    475    476    477    478 \n",
        " buggy robust  buggy  buggy  buggy  buggy  buggy  buggy  buggy robust  buggy \n",
        "   479    480    481    482    483    484    485    486    487    488    489 \n",
        "robust robust robust robust  buggy  buggy  buggy  buggy  buggy  buggy  buggy \n",
        "   490    491    492    493    494    495    496    497    498    499    500 \n",
        " buggy  buggy  buggy  buggy  buggy  buggy  buggy  buggy  buggy  buggy  buggy \n",
        "   501    502    503    504    505    506    507    508    509    510    511 \n",
        " buggy  buggy  buggy robust robust robust robust robust robust robust robust \n",
        "   512    513    514    515    516    517    518    519    520    521    522 \n",
        "robust robust robust robust robust robust robust robust robust robust robust \n",
        "   523    524    525    526    527    201    202    203    204    205    206 \n",
        "robust robust robust  buggy robust robust  buggy robust robust robust robust \n",
        "   207    208    209    210    211    212    213    214    215    216    217 \n",
        "robust robust robust robust robust robust robust robust robust robust robust \n",
        "   218    219    220    221    222    223    224    225    226    227    228 \n",
        "robust robust robust robust robust robust robust robust robust robust robust \n",
        "   229    230    231    232    233    234    235    236    237    238    239 \n",
        "robust robust robust robust robust robust robust robust robust robust robust \n",
        "   240    241    242    243    244    245    246    247    248    249    250 \n",
        "robust robust robust robust robust robust robust robust robust robust robust \n",
        "   251    252    253    254    255    256    257    258    259    260    261 \n",
        "robust robust robust robust robust robust robust robust robust robust robust \n",
        "   262    263    264    265    266    267 \n",
        "robust robust robust robust robust robust \n",
        "Levels: buggy robust\n",
        "        y_test\n",
        "z        buggy robust\n",
        "  buggy     31      1\n",
        "  robust    29     66\n"
       ]
      }
     ],
     "prompt_number": 18
    }
   ],
   "metadata": {}
  }
 ]
}