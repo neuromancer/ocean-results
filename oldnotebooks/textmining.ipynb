{
 "metadata": {
  "name": "textmining"
 },
 "nbformat": 3,
 "nbformat_minor": 0,
 "worksheets": [
  {
   "cells": [
    {
     "cell_type": "code",
     "collapsed": false,
     "input": [
      "%load_ext rmagic "
     ],
     "language": "python",
     "metadata": {},
     "outputs": [
      {
       "output_type": "stream",
       "stream": "stdout",
       "text": [
        "During startup - Warning messages:\n",
        "1: Setting LC_TIME failed, using \"C\" \n",
        "2: Setting LC_MONETARY failed, using \"C\" \n",
        "3: Setting LC_PAPER failed, using \"C\" \n",
        "4: Setting LC_MEASUREMENT failed, using \"C\" \n"
       ]
      }
     ],
     "prompt_number": 2
    },
    {
     "cell_type": "code",
     "collapsed": false,
     "input": [
      "%%R\n",
      "\n",
      "dir = \"24-04-2014\"\n",
      "mycvs = paste(dir, \"robust_program_events.csv\", sep=\"/\")\n",
      "robust_program_events = read.csv(mycvs, sep=\"\\t\")\n",
      "\n",
      "\n",
      "mycvs = paste(dir, \"buggy_program_events.csv\", sep=\"/\")\n",
      "buggy_program_events = read.csv(mycvs, sep=\"\\t\")\n",
      "\n",
      "print(nrow(robust_program_events))\n",
      "print(nrow(buggy_program_events))"
     ],
     "language": "python",
     "metadata": {},
     "outputs": [
      {
       "output_type": "display_data",
       "text": [
        "[1] 100\n",
        "[1] 187\n"
       ]
      }
     ],
     "prompt_number": 3
    },
    {
     "cell_type": "markdown",
     "metadata": {},
     "source": [
      "TODO: Add an explanation about program traces as documents.\n",
      "\n",
      "Now, we load the tm package and create the corpuses from the \"documents\""
     ]
    },
    {
     "cell_type": "code",
     "collapsed": false,
     "input": [
      "%%R\n",
      "\n",
      "library(tm)\n",
      "\n",
      "robust_corpus = Corpus(VectorSource(robust_program_events[,1]))\n",
      "buggy_corpus  = Corpus(VectorSource(buggy_program_events[,1]))\n",
      "\n",
      "print(robust_corpus)\n",
      "print(buggy_corpus)"
     ],
     "language": "python",
     "metadata": {},
     "outputs": [
      {
       "output_type": "display_data",
       "text": [
        "A corpus with 100 text documents\n",
        "A corpus with 187 text documents\n"
       ]
      }
     ],
     "prompt_number": 4
    },
    {
     "cell_type": "markdown",
     "metadata": {},
     "source": [
      "Now, it is time to create the document matrixes, and convert them to data frames adding its classes."
     ]
    },
    {
     "cell_type": "code",
     "collapsed": false,
     "input": [
      "%%R\n",
      "\n",
      "robust_dm = DocumentTermMatrix(robust_corpus)\n",
      "buggy_dm  = DocumentTermMatrix(buggy_corpus)\n",
      "\n",
      "#print(robust_dm)\n",
      "#print(buggy_dm)\n",
      "\n",
      "sink(\"/dev/null\")\n",
      "\n",
      "robust_dm_df =  as.data.frame(inspect(robust_dm))\n",
      "rownames(robust_dm_df) = 1:nrow(robust_dm)\n",
      "robust_dm_df[\"class\"] = \"robust\"\n",
      "    \n",
      "buggy_dm_df =  as.data.frame(inspect(buggy_dm))\n",
      "rownames(buggy_dm_df) = 1:nrow(buggy_dm)\n",
      "buggy_dm_df[\"class\"] = \"buggy\"\n",
      "    \n",
      "sink()\n",
      "\n",
      "#print(colnames(robust_dm_df))\n",
      "#print(colnames(buggy_dm_df))"
     ],
     "language": "python",
     "metadata": {},
     "outputs": [],
     "prompt_number": 7
    },
    {
     "cell_type": "markdown",
     "metadata": {},
     "source": [
      "but we need make sure we are using the same variables for both corpuses."
     ]
    },
    {
     "cell_type": "code",
     "collapsed": false,
     "input": [
      "%%R\n",
      "\n",
      "dm_df = merge(robust_dm_df, buggy_dm_df,all=TRUE, sort=FALSE) \n",
      "\n",
      "#print(dm_df[1,])\n",
      "#print(nrow(dm_df))\n",
      "dm_df[is.na(dm_df)] = 0\n",
      "\n",
      "robust_cases = dm_df[dm_df$class == \"robust\",]\n",
      "buggy_cases  = dm_df[dm_df$class == \"buggy\",]\n",
      "\n",
      "print(nrow(robust_cases))\n",
      "print(nrow(buggy_cases))"
     ],
     "language": "python",
     "metadata": {},
     "outputs": [
      {
       "output_type": "display_data",
       "text": [
        "[1] 100\n",
        "[1] 187\n"
       ]
      }
     ],
     "prompt_number": 8
    },
    {
     "cell_type": "markdown",
     "metadata": {},
     "source": [
      "now, we are ready to select train and test.."
     ]
    },
    {
     "cell_type": "code",
     "collapsed": false,
     "input": [
      "%%R\n",
      "\n",
      "# buggy train and test\n",
      "\n",
      "n = nrow(buggy_cases)\n",
      "#rsample = sample(n)\n",
      "\n",
      "# 100 cases are selected to keep the train dataset balanced\n",
      "train_sample = 1:75 #rsample[1:as.integer(n*0.45)] \n",
      "test_sample = 76:n #rsample[as.integer(n*0.45+1):n]\n",
      "\n",
      "buggy_train = buggy_cases[train_sample,]\n",
      "buggy_test  = buggy_cases[test_sample,]\n",
      "\n",
      "print(nrow(buggy_train))\n",
      "print(nrow(buggy_test))\n",
      "\n",
      "# robust train and test\n",
      "\n",
      "n = nrow(robust_cases)\n",
      "#rsample = sample(n)\n",
      "\n",
      "# 100 cases are selected to keep the train dataset balanced\n",
      "train_sample = 1:75#rsample[1:as.integer(n*0.75)]\n",
      "test_sample = 76:n #rsample[as.integer(n*0.75+1):n]\n",
      "\n",
      "robust_train = robust_cases[train_sample,]\n",
      "robust_test  = robust_cases[test_sample,]\n",
      "\n",
      "print(nrow(robust_train))\n",
      "print(nrow(robust_test))\n",
      "\n",
      "train = rbind(buggy_train, robust_train)\n",
      "test  = rbind(buggy_test, robust_test)"
     ],
     "language": "python",
     "metadata": {},
     "outputs": [
      {
       "output_type": "display_data",
       "text": [
        "[1] 75\n",
        "[1] 112\n",
        "[1] 75\n",
        "[1] 25\n"
       ]
      }
     ],
     "prompt_number": 12
    },
    {
     "cell_type": "markdown",
     "metadata": {},
     "source": [
      "Finally, we are ready to train and test a knn model:"
     ]
    },
    {
     "cell_type": "code",
     "collapsed": false,
     "input": [
      "%%R\n",
      "\n",
      "#print(round(importance(rf),2))\n",
      "\n",
      "library(\"class\")\n",
      "\n",
      "x_train = train[,names(train) != \"class\"]\n",
      "x_test  = test[,names(test) != \"class\"]\n",
      "y_train = train[,\"class\"]\n",
      "y_test  = test[,\"class\"]\n",
      "\n",
      "#print(y)\n",
      "for (k in 1:10) {\n",
      "  print(k)\n",
      "  z = knn(x_train,x_test, y_train, k, use.all = FALSE)\n",
      "  #print(z)\n",
      "  #print(test[,\"class\"])\n",
      "  print(table(z, y_test))\n",
      "}"
     ],
     "language": "python",
     "metadata": {},
     "outputs": [
      {
       "output_type": "display_data",
       "text": [
        "[1] 1\n",
        "        y_test\n",
        "z        buggy robust\n",
        "  buggy     89      0\n",
        "  robust    23     25\n",
        "[1] 2\n",
        "        y_test\n",
        "z        buggy robust\n",
        "  buggy     89      0\n",
        "  robust    23     25\n",
        "[1] 3\n",
        "        y_test\n",
        "z        buggy robust\n",
        "  buggy     86      0\n",
        "  robust    26     25\n",
        "[1] 4\n",
        "        y_test\n",
        "z        buggy robust\n",
        "  buggy     92      0\n",
        "  robust    20     25\n",
        "[1] 5\n",
        "        y_test\n",
        "z        buggy robust\n",
        "  buggy     96      0\n",
        "  robust    16     25\n",
        "[1] 6\n",
        "        y_test\n",
        "z        buggy robust\n",
        "  buggy    100      0\n",
        "  robust    12     25\n",
        "[1] 7\n",
        "        y_test\n",
        "z        buggy robust\n",
        "  buggy    100      0\n",
        "  robust    12     25\n",
        "[1] 8\n",
        "        y_test\n",
        "z        buggy robust\n",
        "  buggy    100      9\n",
        "  robust    12     16\n",
        "[1] 9\n",
        "        y_test\n",
        "z        buggy robust\n",
        "  buggy    100     10\n",
        "  robust    12     15\n",
        "[1] 10\n",
        "        y_test\n",
        "z        buggy robust\n",
        "  buggy    100     15\n",
        "  robust    12     10\n"
       ]
      }
     ],
     "prompt_number": 16
    },
    {
     "cell_type": "markdown",
     "metadata": {},
     "source": [
      "or a random forest.."
     ]
    },
    {
     "cell_type": "code",
     "collapsed": false,
     "input": [
      "%%R\n",
      "library(\"e1071\")\n",
      "\n",
      "xy_train = train#[,names(train) != \"class\"]\n",
      "xy_train[,\"class\"] = factor(train[,\"class\"])\n",
      "x_test = test[,names(test) != \"class\"]\n",
      "#y_train = train[,\"class\"]\n",
      "y_test  = test[,\"class\"]\n",
      "\n",
      "m = svm(class ~., data=xy_train, gamma=0.001, cost=10)\n",
      "#tuned = tune.svm(class~., data = xy_train,  gamma = 10^(-6:-1), cost = 10^(1:2))\n",
      "#print(summary(tuned))\n",
      "z = predict(m,x_test)\n",
      "print(table(z, y_test))"
     ],
     "language": "python",
     "metadata": {},
     "outputs": [
      {
       "output_type": "display_data",
       "text": [
        "        y_test\n",
        "z        buggy robust\n",
        "  buggy     76      0\n",
        "  robust    36     25\n"
       ]
      }
     ],
     "prompt_number": 33
    }
   ],
   "metadata": {}
  }
 ]
}