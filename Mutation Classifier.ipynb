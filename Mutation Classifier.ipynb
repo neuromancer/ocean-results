{
 "metadata": {
  "name": "Mutation Classifier"
 },
 "nbformat": 3,
 "nbformat_minor": 0,
 "worksheets": [
  {
   "cells": [
    {
     "cell_type": "code",
     "collapsed": false,
     "input": [
      "%load_ext rmagic "
     ],
     "language": "python",
     "metadata": {},
     "outputs": [
      {
       "output_type": "stream",
       "stream": "stdout",
       "text": [
        "During startup - Warning messages:\n",
        "1: Setting LC_TIME failed, using \"C\" \n",
        "2: Setting LC_MONETARY failed, using \"C\" \n",
        "3: Setting LC_PAPER failed, using \"C\" \n",
        "4: Setting LC_MEASUREMENT failed, using \"C\" \n"
       ]
      }
     ],
     "prompt_number": 1
    },
    {
     "cell_type": "code",
     "collapsed": false,
     "input": [
      "%%R\n",
      "\n",
      "dir = \"19-05-2014\"\n",
      "\n",
      "mycon = gzcon(gzfile(paste(dir, \"more_buggy_traces.csv.gz\", sep=\"/\"), open=\"r\"))\n",
      "more_program_events = read.csv(textConnection(readLines(mycon)), sep=\"\\t\", header = F)\n",
      "\n",
      "print(nrow(more_program_events))"
     ],
     "language": "python",
     "metadata": {},
     "outputs": [
      {
       "output_type": "display_data",
       "text": [
        "[1] 830\n"
       ]
      }
     ],
     "prompt_number": 3
    },
    {
     "cell_type": "code",
     "collapsed": false,
     "input": [
      "%%R\n",
      "library(\"e1071\")\n",
      "\n",
      "load(file = paste(dir, \"svms\", \"mutation-classifier.svm\", sep=\"/\"))\n",
      "load(file = paste(dir, \"svms\", \"mvars.data\", sep=\"/\"))"
     ],
     "language": "python",
     "metadata": {},
     "outputs": [],
     "prompt_number": 64
    },
    {
     "cell_type": "code",
     "collapsed": false,
     "input": [
      "%%R\n",
      "\n",
      "library(tm)\n",
      "\n",
      "more_corpus = Corpus(VectorSource(more_program_events[,2]))\n",
      "\n",
      "print(more_corpus)\n",
      "#print(more_program_events[,1])"
     ],
     "language": "python",
     "metadata": {},
     "outputs": [
      {
       "output_type": "display_data",
       "text": [
        "A corpus with 830 text documents\n"
       ]
      }
     ],
     "prompt_number": 8
    },
    {
     "cell_type": "code",
     "collapsed": false,
     "input": [
      "%%R\n",
      "\n",
      "more_dm  = DocumentTermMatrix(more_corpus)\n",
      "\n",
      "#print(robust_dm)\n",
      "#print(buggy_dm)\n",
      "\n",
      "sink(\"/dev/null\")\n",
      "\n",
      "more_dm_df =  as.data.frame(inspect(more_dm))\n",
      "#print(rownames(more_dm_df))\n",
      "#rownames(more_dm_df) = 1:nrow(more_dm)\n",
      "#print(rownames(more_dm_df))\n",
      "more_dm_df[\"class\"] = more_program_events[,4] \n",
      "    \n",
      "sink()"
     ],
     "language": "python",
     "metadata": {},
     "outputs": [],
     "prompt_number": 68
    },
    {
     "cell_type": "code",
     "collapsed": false,
     "input": [
      "%%R\n",
      "\n",
      "#dm_df = merge(robust_dm_df, buggy_dm_df,all=TRUE, sort=FALSE) \n",
      "\n",
      "#print(dm_df[1,])\n",
      "#print(nrow(dm_df))\n",
      "#dm_df[is.na(dm_df)] = 0\n",
      "\n",
      "test = more_dm_df\n",
      "\n",
      "robust_cases = more_dm_df[more_dm_df$class == \"R\",]\n",
      "buggy_cases  = more_dm_df[more_dm_df$class == \"B\",]\n",
      "\n",
      "print(ncol(robust_cases))\n",
      "print(ncol(buggy_cases))\n",
      "\n",
      "print(nrow(robust_cases))\n",
      "print(nrow(buggy_cases))\n",
      "\n",
      "#print(names(buggy_cases))"
     ],
     "language": "python",
     "metadata": {},
     "outputs": [
      {
       "output_type": "display_data",
       "text": [
        "[1] 580\n",
        "[1] 580\n",
        "[1] 317\n",
        "[1] 512\n"
       ]
      }
     ],
     "prompt_number": 71
    },
    {
     "cell_type": "code",
     "collapsed": false,
     "input": [
      "%%R\n",
      "\n",
      "x_test = test[,names(test) != \"class\"]\n",
      "y_test  = test[,\"class\"]\n",
      "\n",
      "x_vars = names(x_test)\n",
      "\n",
      "#print(names(x_test))\n",
      "#print(attributes(m))\n",
      "#t = m$terms\n",
      "\n",
      "#print(x_test[1,m_vars])\n",
      "missing_vars = m_vars[! m_vars %in% x_vars]\n",
      "#print(missing_vars)\n",
      "x_test[,missing_vars] = 0\n",
      "\n",
      "#for(v in m_vars) {\n",
      "#    print(v)\n",
      "#    print(v %in% names(x_test))\n",
      "#}\n",
      "\n",
      "#print(attributes(t$variables))\n",
      "\n",
      "z = predict(m,x_test)\n",
      "\n",
      "#print(z)\n",
      "print(y_test[830])\n",
      "print(table(pred=z, true=y_test))"
     ],
     "language": "python",
     "metadata": {},
     "outputs": [
      {
       "output_type": "display_data",
       "text": [
        "[1] \n",
        "Levels:  B R\n",
        "    true\n",
        "pred       B   R\n",
        "   R   0 157 197\n",
        "   B   1 355 120\n"
       ]
      }
     ],
     "prompt_number": 78
    }
   ],
   "metadata": {}
  }
 ]
}