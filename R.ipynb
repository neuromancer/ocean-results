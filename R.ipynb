{
 "metadata": {
  "name": "R"
 },
 "nbformat": 3,
 "nbformat_minor": 0,
 "worksheets": [
  {
   "cells": [
    {
     "cell_type": "heading",
     "level": 1,
     "metadata": {},
     "source": [
      "Learning from 1.1k bugs"
     ]
    },
    {
     "cell_type": "markdown",
     "metadata": {},
     "source": [
      "We need do some Rmagic first.."
     ]
    },
    {
     "cell_type": "code",
     "collapsed": false,
     "input": [
      "%load_ext rmagic "
     ],
     "language": "python",
     "metadata": {},
     "outputs": [],
     "prompt_number": 1
    },
    {
     "cell_type": "markdown",
     "metadata": {},
     "source": [
      "Let's load the data from the traces and the cases from the class we know:"
     ]
    },
    {
     "cell_type": "code",
     "collapsed": false,
     "input": [
      "%%R\n",
      "dir = \"28-01-2014\"\n",
      "mycon = gzcon(gzfile(paste(dir, \"traces.csv.gz\", sep=\"/\"), open=\"r\"))\n",
      "traces = read.csv(textConnection(readLines(mycon)))[,-1]\n",
      "pos_class = read.csv(paste(dir, \"pos_class.csv\", sep=\"/\"))\n",
      "train = traces[,1] %in% pos_class[,1]\n"
     ],
     "language": "python",
     "metadata": {},
     "outputs": [],
     "prompt_number": 2
    },
    {
     "cell_type": "code",
     "collapsed": false,
     "input": [
      "%%R\n",
      "\n",
      "check = function(x) {\n",
      "  #print(\"hola\")\n",
      "  out = system(paste(\"file \",x[1]), intern=TRUE)\n",
      "  c1 = length(grep(\"shared object\",out)) == 1\n",
      "  c2 = length(grep(\"(uses shared libs)\",out)) == 1\n",
      "  return(c1 & c2)\n",
      "         \n",
      "}\n",
      "\n",
      "\n",
      "#print(checked)\n",
      "#checked = as.data.frame(apply(traces[,1:50], 1, check))\n",
      "print(traces[checked[,1],][,1])\n",
      "#print(traces[checked[1,]][,1])\n",
      "\n",
      "#print(traces[1:20,1])\n",
      "#checked = as.data.frame(apply(traces, 1, check))\n",
      "#print(checked[,1])"
     ],
     "language": "python",
     "metadata": {},
     "outputs": [
      {
       "output_type": "display_data",
       "text": [
        "  [1] /usr/lib/gsat/plugins/radio_FT736                                \n",
        "  [2] /usr/bin/fax2tiff                                                \n",
        "  [3] /usr/bin/fax2tiff                                                \n",
        "  [4] /usr/bin/instant                                                 \n",
        "  [5] /usr/bin/instant                                                 \n",
        "  [6] /usr/bin/instant                                                 \n",
        "  [7] /usr/games/teachgammon                                           \n",
        "  [8] /usr/bin/roarclientpass                                          \n",
        "  [9] /usr/bin/roarclientpass                                          \n",
        " [10] /usr/bin/ldns-notify                                             \n",
        " [11] /usr/bin/ldns-notify                                             \n",
        " [12] /usr/lib/squid/ip_user_check                                     \n",
        " [13] /usr/lib/squid/ip_user_check                                     \n",
        " [14] /usr/lib/nagios/plugins/check_nagios                             \n",
        " [15] /usr/lib/nagios/plugins/check_nagios                             \n",
        " [16] /usr/lib/nagios/plugins/check_nagios                             \n",
        " [17] /usr/lib/scratch/plugins/so.UnicodePlugin                        \n",
        " [18] /usr/bin/ldns-dpa                                                \n",
        " [19] /usr/bin/ldns-zcat                                               \n",
        " [20] /usr/bin/ldns-zcat                                               \n",
        " [21] /usr/sbin/sanlock                                                \n",
        " [22] /usr/sbin/sanlock                                                \n",
        " [23] /usr/lib/pd/extra/flite/flite.pd_linux                           \n",
        " [24] /usr/lib/qingy/screensavers/running_time.qss                     \n",
        " [25] /usr/lib/xbmc/addons/visualization.glspectrum/opengl_spectrum.vis\n",
        " [26] /usr/bin/PSVIWriter                                              \n",
        " [27] /usr/bin/PSVIWriter                                              \n",
        " [28] /usr/bin/PSVIWriter                                              \n",
        " [29] /usr/lib/mapnik/2.0/input/osm.input                              \n",
        " [30] /usr/bin/muroard                                                 \n",
        " [31] /usr/bin/muroard                                                 \n",
        " [32] /usr/bin/muroard                                                 \n",
        " [33] /usr/lib/qingy/screensavers/pixel.qss                            \n",
        " [34] /usr/bin/dawgdic-find                                            \n",
        " [35] /usr/bin/dawgdic-find                                            \n",
        " [36] /usr/bin/dawgdic-find                                            \n",
        " [37] /usr/bin/dawgdic-find                                            \n",
        " [38] /usr/bin/ldns-update                                             \n",
        " [39] /usr/bin/ldns-update                                             \n",
        " [40] /usr/bin/ldns-update                                             \n",
        " [41] /usr/bin/ebfont                                                  \n",
        " [42] /usr/bin/ebfont                                                  \n",
        " [43] /usr/lib/mapnik/2.0/input/gdal.input                             \n",
        " [44] /usr/games/monop                                                 \n",
        " [45] /usr/bin/vdltodmx                                                \n",
        " [46] /usr/bin/vdltodmx                                                \n",
        " [47] /usr/lib/qingy/screensavers/photos.qss                           \n",
        " [48] /usr/lib/nagios/plugins/urlize                                   \n",
        " [49] /usr/lib/nagios/plugins/urlize                                   \n",
        " [50] /usr/lib/nagios/plugins/urlize                                   \n",
        " [51] /usr/sbin/upnpd                                                  \n",
        " [52] /usr/sbin/upnpd                                                  \n",
        " [53] /usr/lib/check_mk/livestatus.o                                   \n",
        " [54] /usr/lib/mapnik/2.0/input/raster.input                           \n",
        " [55] /usr/lib/xbmc/addons/screensaver.rsxs.euphoria/Euphoria.xbs      \n",
        " [56] /usr/lib/scratch/plugins/so.ScratchPlugin                        \n",
        " [57] /usr/bin/roarinterconnect                                        \n",
        " [58] /usr/bin/roarinterconnect                                        \n",
        " [59] /usr/bin/wmitime                                                 \n",
        " [60] /usr/bin/wmitime                                                 \n",
        " [61] /usr/bin/sig2fv                                                  \n",
        " [62] /usr/lib/mod_gearman/mod_gearman.o                               \n",
        " [63] /usr/games/netrek-client-cow                                     \n",
        " [64] /usr/games/netrek-client-cow                                     \n",
        " [65] /usr/games/netrek-client-cow                                     \n",
        " [66] /usr/games/netrek-client-cow                                     \n",
        " [67] /usr/lib/games/bsnes/filters/HQ2x.filter                         \n",
        " [68] /usr/lib/nagios/plugins/check_mrtgtraf                           \n",
        " [69] /usr/lib/nagios/plugins/check_mrtgtraf                           \n",
        " [70] /usr/lib/scratch/plugins/so.WeDoPlugin                           \n",
        " [71] /usr/lib/games/bsnes/filters/Scale2x.filter                      \n",
        " [72] /usr/bin/roarcatvio                                              \n",
        " [73] /usr/bin/roarcatvio                                              \n",
        " [74] /usr/lib/news/bin/grephistory                                    \n",
        " [75] /usr/lib/covered/covered.vpi                                     \n",
        " [76] /usr/lib/ecl-11.1.1/cmp.fas                                      \n",
        " [77] /usr/lib/brutefir/cli.bflogic                                    \n",
        " [78] /usr/lib/nagios/plugins/check_game                               \n",
        " [79] /usr/lib/nagios/plugins/check_game                               \n",
        " [80] /usr/lib/pd/extra/aubio.pd_linux                                 \n",
        " [81] /usr/games/backgammon                                            \n",
        " [82] /usr/lib/ecl-11.1.1/bytecmp.fas                                  \n",
        " [83] /usr/lib/gsat/plugins/radio_test                                 \n",
        " [84] /usr/bin/roarlight                                               \n",
        " [85] /usr/bin/roarlight                                               \n",
        " [86] /usr/sbin/setkey                                                 \n",
        " [87] /usr/sbin/setkey                                                 \n",
        " [88] /usr/lib/scratch/plugins/so.CameraPlugin                         \n",
        " [89] /usr/bin/roardtmf                                                \n",
        " [90] /usr/bin/emms-print-metadata                                     \n",
        " [91] /usr/bin/emms-print-metadata                                     \n",
        " [92] /usr/lib/picolisp/lib/ext                                        \n",
        " [93] /usr/lib/mapnik/2.0/input/geos.input                             \n",
        " [94] /usr/bin/pda                                                     \n",
        " [95] /usr/lib/brutefir/eq.bflogic                                     \n",
        " [96] /usr/bin/mgen                                                    \n",
        " [97] /usr/bin/mgen                                                    \n",
        " [98] /usr/bin/ldns-keyfetcher                                         \n",
        " [99] /usr/bin/ldns-keyfetcher                                         \n",
        "[100] /usr/bin/muroarstream                                            \n",
        "[101] /usr/lib/gsat/plugins/radio_ICR10                                \n",
        "[102] /usr/lib/pnp4nagios/npcdmod.o                                    \n",
        "[103] /usr/bin/pitchmark                                               \n",
        "[104] /usr/bin/pitchmark                                               \n",
        "[105] /usr/bin/pitchmark                                               \n",
        "[106] /usr/bin/ebstopcode                                              \n",
        "[107] /usr/bin/ebstopcode                                              \n",
        "[108] /usr/lib/xbmc/addons/screensaver.rsxs.plasma/Plasma.xbs          \n",
        "[109] /usr/games/alex4                                                 \n",
        "[110] /usr/lib/cyrus/bin/sieved                                        \n",
        "[111] /usr/lib/cyrus/bin/sieved                                        \n",
        "[112] /usr/bin/mail.mailutils                                          \n",
        "[113] /usr/bin/mail.mailutils                                          \n",
        "[114] /usr/bin/gobby-0.4                                               \n",
        "[115] /usr/bin/gobby-0.4                                               \n",
        "[116] /usr/bin/g_sigeps                                                \n",
        "[117] /usr/bin/g_sigeps                                                \n",
        "[118] /usr/lib/xbmc/addons/screensaver.rsxs.solarwinds/Solarwinds.xbs  \n",
        "[119] /usr/lib/nagios/plugins/check_by_ssh                             \n",
        "[120] /usr/lib/games/bsnes/filters/Phosphor3x.filter                   \n",
        "[121] /usr/bin/ebinfo                                                  \n",
        "[122] /usr/bin/ebinfo                                                  \n",
        "[123] /usr/bin/eblook                                                  \n",
        "[124] /usr/bin/eblook                                                  \n",
        "[125] /usr/lib/brutefir/oss.bfio                                       \n",
        "[126] /usr/bin/ch_wave                                                 \n",
        "[127] /usr/bin/ch_wave                                                 \n",
        "[128] /usr/bin/frm.mailutils                                           \n",
        "[129] /usr/bin/frm.mailutils                                           \n",
        "[130] /usr/bin/g_anadock                                               \n",
        "[131] /usr/bin/na_play                                                 \n",
        "[132] /usr/bin/na_play                                                 \n",
        "[133] /usr/bin/opencc_dict                                             \n",
        "[134] /usr/bin/opencc_dict                                             \n",
        "[135] /usr/bin/opencc_dict                                             \n",
        "[136] /usr/bin/opencc_dict                                             \n",
        "[137] /usr/bin/fcrackzipinfo                                           \n",
        "[138] /usr/bin/fcrackzipinfo                                           \n",
        "[139] /usr/lib/games/bsnes/filters/LQ2x.filter                         \n",
        "[140] /usr/lib/pd/extra/pdp.pd_linux                                   \n",
        "[141] /usr/bin/psorder                                                 \n",
        "[142] /usr/bin/psorder                                                 \n",
        "[143] /usr/lib/pd/extra/pdp_opengl.pd_linux                            \n",
        "[144] /usr/lib/brutefir/file.bfio                                      \n",
        "976 Levels: /bin/serdo /bin/upsc /sbin/apparmor_parser ... /usr/sbin/xrdp-chansrv\n"
       ]
      }
     ],
     "prompt_number": 30
    },
    {
     "cell_type": "markdown",
     "metadata": {},
     "source": [
      "Let's define interesting cases for score function:"
     ]
    },
    {
     "cell_type": "code",
     "collapsed": false,
     "input": [
      "%%R\n",
      "\n",
      "vars = colnames(traces)\n",
      "fn = c()"
     ],
     "language": "python",
     "metadata": {},
     "outputs": [],
     "prompt_number": 71
    },
    {
     "cell_type": "markdown",
     "metadata": {},
     "source": [
      "The program crashes in an invalid instruction:"
     ]
    },
    {
     "cell_type": "code",
     "collapsed": false,
     "input": [
      "%%R\n",
      "\n",
      "v_bad_eip = grep(\"crashed\",vars)\n",
      "v_bad_eip = setdiff(v_bad_eip, c(grep(\"crashed.eip.GPtr32\", vars)))\n",
      "v_bad_eip = setdiff(v_bad_eip, c(grep(\"crashed.eip.LPtr32\", vars)))\n",
      "print(vars[v_bad_eip])\n",
      "#print(vars[[grep(\"crashed\",vars[-v_good_eip])])\n",
      "#v_crashed_eip_DPtr32 = \n",
      "\n",
      "s_bad_eip = 1000\n",
      "\n",
      "fx = function(x) {\n",
      "  return(s_bad_eip*max(as.numeric(x[v_bad_eip])))\n",
      "}\n",
      "\n",
      "fn = c(fx, fn)"
     ],
     "language": "python",
     "metadata": {},
     "outputs": [
      {
       "output_type": "display_data",
       "text": [
        "[1] \"crashed.eip.Ptr32\"  \"crashed.eip.SPtr32\" \"crashed.eip.FPtr32\"\n",
        "[4] \"crashed.eip.NPtr32\" \"crashed.eip.DPtr32\"\n"
       ]
      }
     ],
     "prompt_number": 72
    },
    {
     "cell_type": "markdown",
     "metadata": {},
     "source": [
      "The program crashes in general:"
     ]
    },
    {
     "cell_type": "code",
     "collapsed": false,
     "input": [
      "%%R\n",
      "\n",
      "v_SIGSEGV = grep(\"SIGSEGV\",vars)\n",
      "print(vars[v_SIGSEGV])\n",
      "\n",
      "s_SIGSEGV = 10\n",
      "\n",
      "fx = function(x) {\n",
      "  return(s_SIGSEGV*max(as.numeric(x[v_SIGSEGV])))\n",
      "}\n",
      "\n",
      "fn = c(fx, fn)"
     ],
     "language": "python",
     "metadata": {},
     "outputs": [
      {
       "output_type": "display_data",
       "text": [
        "[1] \"SIGSEGV.addr.SPtr32\" \"SIGSEGV.addr.LPtr32\" \"SIGSEGV.addr.FPtr32\"\n",
        "[4] \"SIGSEGV.addr.DPtr32\" \"SIGSEGV.addr.GPtr32\" \"SIGSEGV.addr.Top32\" \n"
       ]
      }
     ],
     "prompt_number": 73
    },
    {
     "cell_type": "markdown",
     "metadata": {},
     "source": [
      "The program uses a dangling pointer:"
     ]
    },
    {
     "cell_type": "code",
     "collapsed": false,
     "input": [
      "%%R\n",
      "\n",
      "v_DPtr32 = grep(\"DPtr32\",vars)\n",
      "print(vars[v_DPtr32])\n",
      "\n",
      "s_DPtr32 = 50\n",
      "\n",
      "fx = function(x) {\n",
      "  return(s_DPtr32*max(as.numeric(x[v_DPtr32])))\n",
      "}\n",
      "\n",
      "fn = c(fx, fn)"
     ],
     "language": "python",
     "metadata": {},
     "outputs": [
      {
       "output_type": "display_data",
       "text": [
        " [1] \"fputs_0.DPtr32\"              \"fputs_1.DPtr32\"             \n",
        " [3] \"fclose_0.DPtr32\"             \"inet_ntoa_0.DPtr32\"         \n",
        " [5] \"memcpy_1.DPtr32\"             \"perror_0.DPtr32\"            \n",
        " [7] \"signal.ret_val.DPtr32\"       \"signal_1.DPtr32\"            \n",
        " [9] \"strcpy_1.DPtr32\"             \"strcmp_0.DPtr32\"            \n",
        "[11] \"strcmp_1.DPtr32\"             \"pclose_0.DPtr32\"            \n",
        "[13] \"strcat_1.DPtr32\"             \"strchr_0.DPtr32\"            \n",
        "[15] \"inet_addr.ret_val.DPtr32\"    \"ferror_0.DPtr32\"            \n",
        "[17] \"free_0.DPtr32\"               \"X__strtol_internal_0.DPtr32\"\n",
        "[19] \"getgrnam_0.DPtr32\"           \"realloc_0.DPtr32\"           \n",
        "[21] \"sbrk.ret_val.DPtr32\"         \"X__xstat_1.DPtr32\"          \n",
        "[23] \"fread_0.DPtr32\"              \"stpcpy_1.DPtr32\"            \n",
        "[25] \"strlen_0.DPtr32\"             \"XMapWindow_1.DPtr32\"        \n",
        "[27] \"crashed.eip.DPtr32\"          \"SIGSEGV.addr.DPtr32\"        \n"
       ]
      }
     ],
     "prompt_number": 76
    },
    {
     "cell_type": "markdown",
     "metadata": {},
     "source": [
      "The program allocates a large piece of memory:"
     ]
    },
    {
     "cell_type": "code",
     "collapsed": false,
     "input": [
      "%%R\n",
      "\n",
      "v_bad_alloc = c()\n",
      "\n",
      "v_bad_alloc = c(v_bad_alloc, grep(\"malloc_0.Num32B0\",vars),grep(\"malloc_0.Num32B24\",vars), grep(\"malloc_0.Num32B32\",vars))\n",
      "v_bad_alloc = c(v_bad_alloc, grep(\"calloc_0.Num32B0\",vars),grep(\"calloc_0.Num32B24\",vars), grep(\"calloc_0.Num32B32\",vars))\n",
      "v_bad_alloc = c(v_bad_alloc, grep(\"calloc_1.Num32B0\",vars),grep(\"calloc_1.Num32B24\",vars), grep(\"calloc_1.Num32B32\",vars))\n",
      "v_bad_alloc = c(v_bad_alloc, grep(\"realloc_1.Num32B0\",vars),grep(\"realloc_1.Num32B24\",vars), grep(\"realloc_1.Num32B32\",vars))\n",
      "#v_bad_alloc = c(grep(\"alloc\",vars),v_bad_alloc)\n",
      "print(vars[v_bad_alloc])\n",
      "\n",
      "s_bad_alloc = 100\n",
      "\n",
      "fx = function(x) {\n",
      "  return(s_bad_alloc*max(as.numeric(x[v_bad_alloc])))\n",
      "}\n",
      "\n",
      "fn = c(fx, fn)"
     ],
     "language": "python",
     "metadata": {},
     "outputs": [
      {
       "output_type": "display_data",
       "text": [
        "[1] \"malloc_0.Num32B0\"   \"malloc_0.Num32B24\"  \"malloc_0.Num32B32\" \n",
        "[4] \"calloc_0.Num32B0\"   \"calloc_0.Num32B24\"  \"calloc_0.Num32B32\" \n",
        "[7] \"calloc_1.Num32B32\"  \"realloc_1.Num32B24\" \"realloc_1.Num32B32\"\n"
       ]
      }
     ],
     "prompt_number": 77
    },
    {
     "cell_type": "code",
     "collapsed": false,
     "input": [
      "%%R\n",
      "\n",
      "v_large_copy = c()\n",
      "\n",
      "v_large_copy = c(v_large_copy,grep(\"memcpy_2.Num32B24\",vars), grep(\"memcpy_2.Num32B32\",vars))\n",
      "v_large_copy = c(v_large_copy,grep(\"memset_2.Num32B24\",vars), grep(\"memset_2.Num32B32\",vars))\n",
      "v_large_copy = c(v_large_copy,grep(\"strncpy_2.Num32B24\",vars), grep(\"strncpy_2.Num32B32\",vars))\n",
      "\n",
      "print(vars[v_large_copy])\n",
      "\n",
      "s_large_copy = 100\n",
      "\n",
      "fx = function(x) {\n",
      "  return(s_large_copy*max(as.numeric(x[v_large_copy])))\n",
      "}\n",
      "\n",
      "fn = c(fx, fn)"
     ],
     "language": "python",
     "metadata": {},
     "outputs": [
      {
       "output_type": "display_data",
       "text": [
        "[1] \"memcpy_2.Num32B24\"  \"memcpy_2.Num32B32\"  \"memset_2.Num32B24\" \n",
        "[4] \"memset_2.Num32B32\"  \"strncpy_2.Num32B24\" \"strncpy_2.Num32B32\"\n"
       ]
      }
     ],
     "prompt_number": 78
    },
    {
     "cell_type": "markdown",
     "metadata": {},
     "source": [
      "invalid frees:"
     ]
    },
    {
     "cell_type": "code",
     "collapsed": false,
     "input": [
      "%%R\n",
      "\n",
      "v_inv_free = grep(\"free_0\",vars)\n",
      "v_inv_free = setdiff(v_inv_free, c(grep(\"free_0.HPtr32\", vars)))\n",
      "\n",
      "v_inv_realloc = grep(\"realloc_0\",vars)\n",
      "v_inv_realloc = setdiff(v_inv_realloc, c(grep(\"realloc_0.HPtr32\", vars)))\n",
      "\n",
      "v_abort = grep(\"abort.eip.Ptr32\",vars)\n",
      "print(vars[c(v_inv_realloc,v_inv_realloc)])\n",
      "\n",
      "s_inv_free = 100\n",
      "\n",
      "fx = function(x) {\n",
      "  has_inv_free = max(as.numeric(x[v_inv_frees]))\n",
      "  has_inv_realloc = max(as.numeric(x[v_inv_realloc]))\n",
      "  has_abort = max(as.numeric(x[v_abort]))\n",
      "                  \n",
      "  return(s_inv_free*has_abort*(has_inv_free + has_inv_realloc))\n",
      "}\n",
      "\n",
      "fn = c(fx, fn)"
     ],
     "language": "python",
     "metadata": {},
     "outputs": [
      {
       "output_type": "display_data",
       "text": [
        "[1] \"realloc_0.NPtr32\" \"realloc_0.DPtr32\" \"realloc_0.NPtr32\" \"realloc_0.DPtr32\"\n"
       ]
      }
     ],
     "prompt_number": 79
    },
    {
     "cell_type": "code",
     "collapsed": false,
     "input": [
      "%%R\n",
      "\n",
      "rank = function(x) {\n",
      "  r = 0\n",
      "  \n",
      "  for (f in fn) {\n",
      "    r = r + f(x)\n",
      "  }\n",
      "    \n",
      "  return(r)\n",
      "         \n",
      "}\n",
      "\n",
      "#print(traces[1:20,1])\n",
      "ranking = cbind(binary=traces[,1],as.data.frame(apply(traces, 1, rank)))\n",
      "\n",
      "#print(ranking[2,])\n",
      "#ranking = ranking[order(ranking[2,])]\n",
      "#ranking = table(binary=ranking[1,], score=ranking[2,])\n",
      "#print(ranking[1:20])\n",
      "ranking = ranking[order(ranking[,2],decreasing=T),]\n",
      "#print(ranking[1:110,])\n",
      "\n",
      "#print()"
     ],
     "language": "python",
     "metadata": {},
     "outputs": [],
     "prompt_number": 82
    },
    {
     "cell_type": "markdown",
     "metadata": {},
     "source": [
      "Finally, we dump the information to a csv:"
     ]
    },
    {
     "cell_type": "code",
     "collapsed": false,
     "input": [
      "%%R\n",
      "write.csv(ranking,\"ranking.csv\")"
     ],
     "language": "python",
     "metadata": {},
     "outputs": [],
     "prompt_number": 81
    }
   ],
   "metadata": {}
  }
 ]
}