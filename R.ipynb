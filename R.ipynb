{
 "metadata": {
  "name": "R"
 },
 "nbformat": 3,
 "nbformat_minor": 0,
 "worksheets": [
  {
   "cells": [
    {
     "cell_type": "heading",
     "level": 1,
     "metadata": {},
     "source": [
      "Learning from 1.1k bugs"
     ]
    },
    {
     "cell_type": "markdown",
     "metadata": {},
     "source": [
      "We need do some Rmagic first.."
     ]
    },
    {
     "cell_type": "code",
     "collapsed": false,
     "input": [
      "%load_ext rmagic "
     ],
     "language": "python",
     "metadata": {},
     "outputs": [],
     "prompt_number": 2
    },
    {
     "cell_type": "markdown",
     "metadata": {},
     "source": [
      "Let's load the data from the traces and the cases from the class we know:"
     ]
    },
    {
     "cell_type": "code",
     "collapsed": false,
     "input": [
      "%%R\n",
      "dir = \"28-01-2014\"\n",
      "mycon = gzcon(gzfile(paste(dir, \"traces.csv.gz\", sep=\"/\"), open=\"r\"))\n",
      "traces = read.csv(textConnection(readLines(mycon)))[,-1]\n",
      "pos_class = read.csv(paste(dir, \"pos_class.csv\", sep=\"/\"))\n",
      "train = traces[,1] %in% pos_class[,1]\n"
     ],
     "language": "python",
     "metadata": {},
     "outputs": [],
     "prompt_number": 3
    },
    {
     "cell_type": "markdown",
     "metadata": {},
     "source": [
      "Let's define interesting cases for score function:"
     ]
    },
    {
     "cell_type": "code",
     "collapsed": false,
     "input": [
      "%%R\n",
      "\n",
      "vars = colnames(traces)\n",
      "fn = c()"
     ],
     "language": "python",
     "metadata": {},
     "outputs": [],
     "prompt_number": 71
    },
    {
     "cell_type": "markdown",
     "metadata": {},
     "source": [
      "The program crashes in an invalid instruction:"
     ]
    },
    {
     "cell_type": "code",
     "collapsed": false,
     "input": [
      "%%R\n",
      "\n",
      "v_bad_eip = grep(\"crashed\",vars)\n",
      "v_bad_eip = setdiff(v_bad_eip, c(grep(\"crashed.eip.GPtr32\", vars)))\n",
      "v_bad_eip = setdiff(v_bad_eip, c(grep(\"crashed.eip.LPtr32\", vars)))\n",
      "print(vars[v_bad_eip])\n",
      "#print(vars[[grep(\"crashed\",vars[-v_good_eip])])\n",
      "#v_crashed_eip_DPtr32 = \n",
      "\n",
      "s_bad_eip = 1000\n",
      "\n",
      "fx = function(x) {\n",
      "  return(s_bad_eip*max(as.numeric(x[v_bad_eip])))\n",
      "}\n",
      "\n",
      "fn = c(fx, fn)"
     ],
     "language": "python",
     "metadata": {},
     "outputs": [
      {
       "output_type": "display_data",
       "text": [
        "[1] \"crashed.eip.Ptr32\"  \"crashed.eip.SPtr32\" \"crashed.eip.FPtr32\"\n",
        "[4] \"crashed.eip.NPtr32\" \"crashed.eip.DPtr32\"\n"
       ]
      }
     ],
     "prompt_number": 72
    },
    {
     "cell_type": "markdown",
     "metadata": {},
     "source": [
      "The program crashes in general:"
     ]
    },
    {
     "cell_type": "code",
     "collapsed": false,
     "input": [
      "%%R\n",
      "\n",
      "v_SIGSEGV = grep(\"SIGSEGV\",vars)\n",
      "print(vars[v_SIGSEGV])\n",
      "\n",
      "s_SIGSEGV = 10\n",
      "\n",
      "fx = function(x) {\n",
      "  return(s_SIGSEGV*max(as.numeric(x[v_SIGSEGV])))\n",
      "}\n",
      "\n",
      "fn = c(fx, fn)"
     ],
     "language": "python",
     "metadata": {},
     "outputs": [
      {
       "output_type": "display_data",
       "text": [
        "[1] \"SIGSEGV.addr.SPtr32\" \"SIGSEGV.addr.LPtr32\" \"SIGSEGV.addr.FPtr32\"\n",
        "[4] \"SIGSEGV.addr.DPtr32\" \"SIGSEGV.addr.GPtr32\" \"SIGSEGV.addr.Top32\" \n"
       ]
      }
     ],
     "prompt_number": 73
    },
    {
     "cell_type": "markdown",
     "metadata": {},
     "source": [
      "The program uses a dangling pointer:"
     ]
    },
    {
     "cell_type": "code",
     "collapsed": false,
     "input": [
      "%%R\n",
      "\n",
      "v_DPtr32 = grep(\"DPtr32\",vars)\n",
      "print(vars[v_DPtr32])\n",
      "\n",
      "s_DPtr32 = 50\n",
      "\n",
      "fx = function(x) {\n",
      "  return(s_DPtr32*max(as.numeric(x[v_DPtr32])))\n",
      "}\n",
      "\n",
      "fn = c(fx, fn)"
     ],
     "language": "python",
     "metadata": {},
     "outputs": [
      {
       "output_type": "display_data",
       "text": [
        " [1] \"fputs_0.DPtr32\"              \"fputs_1.DPtr32\"             \n",
        " [3] \"fclose_0.DPtr32\"             \"inet_ntoa_0.DPtr32\"         \n",
        " [5] \"memcpy_1.DPtr32\"             \"perror_0.DPtr32\"            \n",
        " [7] \"signal.ret_val.DPtr32\"       \"signal_1.DPtr32\"            \n",
        " [9] \"strcpy_1.DPtr32\"             \"strcmp_0.DPtr32\"            \n",
        "[11] \"strcmp_1.DPtr32\"             \"pclose_0.DPtr32\"            \n",
        "[13] \"strcat_1.DPtr32\"             \"strchr_0.DPtr32\"            \n",
        "[15] \"inet_addr.ret_val.DPtr32\"    \"ferror_0.DPtr32\"            \n",
        "[17] \"free_0.DPtr32\"               \"X__strtol_internal_0.DPtr32\"\n",
        "[19] \"getgrnam_0.DPtr32\"           \"realloc_0.DPtr32\"           \n",
        "[21] \"sbrk.ret_val.DPtr32\"         \"X__xstat_1.DPtr32\"          \n",
        "[23] \"fread_0.DPtr32\"              \"stpcpy_1.DPtr32\"            \n",
        "[25] \"strlen_0.DPtr32\"             \"XMapWindow_1.DPtr32\"        \n",
        "[27] \"crashed.eip.DPtr32\"          \"SIGSEGV.addr.DPtr32\"        \n"
       ]
      }
     ],
     "prompt_number": 76
    },
    {
     "cell_type": "markdown",
     "metadata": {},
     "source": [
      "The program allocates a large piece of memory:"
     ]
    },
    {
     "cell_type": "code",
     "collapsed": false,
     "input": [
      "%%R\n",
      "\n",
      "v_bad_alloc = c()\n",
      "\n",
      "v_bad_alloc = c(v_bad_alloc, grep(\"malloc_0.Num32B0\",vars),grep(\"malloc_0.Num32B24\",vars), grep(\"malloc_0.Num32B32\",vars))\n",
      "v_bad_alloc = c(v_bad_alloc, grep(\"calloc_0.Num32B0\",vars),grep(\"calloc_0.Num32B24\",vars), grep(\"calloc_0.Num32B32\",vars))\n",
      "v_bad_alloc = c(v_bad_alloc, grep(\"calloc_1.Num32B0\",vars),grep(\"calloc_1.Num32B24\",vars), grep(\"calloc_1.Num32B32\",vars))\n",
      "v_bad_alloc = c(v_bad_alloc, grep(\"realloc_1.Num32B0\",vars),grep(\"realloc_1.Num32B24\",vars), grep(\"realloc_1.Num32B32\",vars))\n",
      "#v_bad_alloc = c(grep(\"alloc\",vars),v_bad_alloc)\n",
      "print(vars[v_bad_alloc])\n",
      "\n",
      "s_bad_alloc = 100\n",
      "\n",
      "fx = function(x) {\n",
      "  return(s_bad_alloc*max(as.numeric(x[v_bad_alloc])))\n",
      "}\n",
      "\n",
      "fn = c(fx, fn)"
     ],
     "language": "python",
     "metadata": {},
     "outputs": [
      {
       "output_type": "display_data",
       "text": [
        "[1] \"malloc_0.Num32B0\"   \"malloc_0.Num32B24\"  \"malloc_0.Num32B32\" \n",
        "[4] \"calloc_0.Num32B0\"   \"calloc_0.Num32B24\"  \"calloc_0.Num32B32\" \n",
        "[7] \"calloc_1.Num32B32\"  \"realloc_1.Num32B24\" \"realloc_1.Num32B32\"\n"
       ]
      }
     ],
     "prompt_number": 77
    },
    {
     "cell_type": "code",
     "collapsed": false,
     "input": [
      "%%R\n",
      "\n",
      "v_large_copy = c()\n",
      "\n",
      "v_large_copy = c(v_large_copy,grep(\"memcpy_2.Num32B24\",vars), grep(\"memcpy_2.Num32B32\",vars))\n",
      "v_large_copy = c(v_large_copy,grep(\"memset_2.Num32B24\",vars), grep(\"memset_2.Num32B32\",vars))\n",
      "v_large_copy = c(v_large_copy,grep(\"strncpy_2.Num32B24\",vars), grep(\"strncpy_2.Num32B32\",vars))\n",
      "\n",
      "print(vars[v_large_copy])\n",
      "\n",
      "s_large_copy = 100\n",
      "\n",
      "fx = function(x) {\n",
      "  return(s_large_copy*max(as.numeric(x[v_large_copy])))\n",
      "}\n",
      "\n",
      "fn = c(fx, fn)"
     ],
     "language": "python",
     "metadata": {},
     "outputs": [
      {
       "output_type": "display_data",
       "text": [
        "[1] \"memcpy_2.Num32B24\"  \"memcpy_2.Num32B32\"  \"memset_2.Num32B24\" \n",
        "[4] \"memset_2.Num32B32\"  \"strncpy_2.Num32B24\" \"strncpy_2.Num32B32\"\n"
       ]
      }
     ],
     "prompt_number": 78
    },
    {
     "cell_type": "markdown",
     "metadata": {},
     "source": [
      "invalid frees:"
     ]
    },
    {
     "cell_type": "code",
     "collapsed": false,
     "input": [
      "%%R\n",
      "\n",
      "v_inv_free = grep(\"free_0\",vars)\n",
      "v_inv_free = setdiff(v_inv_free, c(grep(\"free_0.HPtr32\", vars)))\n",
      "\n",
      "v_inv_realloc = grep(\"realloc_0\",vars)\n",
      "v_inv_realloc = setdiff(v_inv_realloc, c(grep(\"realloc_0.HPtr32\", vars)))\n",
      "\n",
      "v_abort = grep(\"abort.eip.Ptr32\",vars)\n",
      "print(vars[c(v_inv_realloc,v_inv_realloc)])\n",
      "\n",
      "s_inv_free = 100\n",
      "\n",
      "fx = function(x) {\n",
      "  has_inv_free = max(as.numeric(x[v_inv_frees]))\n",
      "  has_inv_realloc = max(as.numeric(x[v_inv_realloc]))\n",
      "  has_abort = max(as.numeric(x[v_abort]))\n",
      "                  \n",
      "  return(s_inv_free*has_abort*(has_inv_free + has_inv_realloc))\n",
      "}\n",
      "\n",
      "fn = c(fx, fn)"
     ],
     "language": "python",
     "metadata": {},
     "outputs": [
      {
       "output_type": "display_data",
       "text": [
        "[1] \"realloc_0.NPtr32\" \"realloc_0.DPtr32\" \"realloc_0.NPtr32\" \"realloc_0.DPtr32\"\n"
       ]
      }
     ],
     "prompt_number": 79
    },
    {
     "cell_type": "code",
     "collapsed": false,
     "input": [
      "%%R\n",
      "\n",
      "rank = function(x) {\n",
      "  r = 0\n",
      "  \n",
      "  for (f in fn) {\n",
      "    r = r + f(x)\n",
      "  }\n",
      "    \n",
      "  return(r)\n",
      "         \n",
      "}\n",
      "\n",
      "#print(traces[1:20,1])\n",
      "ranking = cbind(binary=traces[,1],as.data.frame(apply(traces, 1, rank)))\n",
      "\n",
      "#print(ranking[2,])\n",
      "#ranking = ranking[order(ranking[2,])]\n",
      "#ranking = table(binary=ranking[1,], score=ranking[2,])\n",
      "#print(ranking[1:20])\n",
      "ranking = ranking[order(ranking[,2],decreasing=T),]\n",
      "#print(ranking[1:110,])\n",
      "\n",
      "#print()"
     ],
     "language": "python",
     "metadata": {},
     "outputs": [],
     "prompt_number": 82
    },
    {
     "cell_type": "markdown",
     "metadata": {},
     "source": [
      "Finally, we dump the information to a csv:"
     ]
    },
    {
     "cell_type": "code",
     "collapsed": false,
     "input": [
      "%%R\n",
      "write.csv(ranking,\"ranking.csv\")"
     ],
     "language": "python",
     "metadata": {},
     "outputs": [],
     "prompt_number": 81
    }
   ],
   "metadata": {}
  }
 ]
}