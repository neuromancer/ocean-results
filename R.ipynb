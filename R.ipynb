{
 "metadata": {
  "name": "R"
 },
 "nbformat": 3,
 "nbformat_minor": 0,
 "worksheets": [
  {
   "cells": [
    {
     "cell_type": "heading",
     "level": 1,
     "metadata": {},
     "source": [
      "Learning from 1.1k bugs"
     ]
    },
    {
     "cell_type": "markdown",
     "metadata": {},
     "source": [
      "We need do some Rmagic first.."
     ]
    },
    {
     "cell_type": "code",
     "collapsed": false,
     "input": [
      "%load_ext rmagic "
     ],
     "language": "python",
     "metadata": {},
     "outputs": [],
     "prompt_number": 1
    },
    {
     "cell_type": "markdown",
     "metadata": {},
     "source": [
      "Let's load the data from the traces and the cases from the class we know:"
     ]
    },
    {
     "cell_type": "code",
     "collapsed": false,
     "input": [
      "%%R\n",
      "dir=\"28-01-2014\"\n",
      "mycon = gzcon(gzfile(paste(dir, \"traces.csv.gz\", sep=\"/\"), open=\"r\"))\n",
      "traces = read.csv(textConnection(readLines(mycon)))[,-1]\n",
      "class = read.csv(paste(dir, \"class.csv\", sep=\"/\"))\n",
      "train = traces[,1] %in% class[,1]\n"
     ],
     "language": "python",
     "metadata": {},
     "outputs": [],
     "prompt_number": 2
    }
   ],
   "metadata": {}
  }
 ]
}