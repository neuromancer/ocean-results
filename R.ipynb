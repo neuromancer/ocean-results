{
 "metadata": {
  "name": "R"
 },
 "nbformat": 3,
 "nbformat_minor": 0,
 "worksheets": [
  {
   "cells": [
    {
     "cell_type": "heading",
     "level": 1,
     "metadata": {},
     "source": [
      "Learning from 1.1k bugs"
     ]
    },
    {
     "cell_type": "markdown",
     "metadata": {},
     "source": [
      "We need do some Rmagic first.."
     ]
    },
    {
     "cell_type": "code",
     "collapsed": false,
     "input": [
      "%load_ext rmagic "
     ],
     "language": "python",
     "metadata": {},
     "outputs": []
    },
    {
     "cell_type": "markdown",
     "metadata": {},
     "source": [
      "Let's load the data from the traces and the cases from the class we know:"
     ]
    },
    {
     "cell_type": "code",
     "collapsed": false,
     "input": [
      "%%R\n",
      "dir = \"28-01-2014\"\n",
      "mycon = gzcon(gzfile(paste(dir, \"traces.csv.gz\", sep=\"/\"), open=\"r\"))\n",
      "traces = read.csv(textConnection(readLines(mycon)))[,-1]\n",
      "pos_class = read.csv(paste(dir, \"pos_class.csv\", sep=\"/\"))\n",
      "train = traces[,1] %in% pos_class[,1]\n"
     ],
     "language": "python",
     "metadata": {},
     "outputs": [],
     "prompt_number": 2
    },
    {
     "cell_type": "markdown",
     "metadata": {},
     "source": [
      "Let's define interesting cases for score function:"
     ]
    },
    {
     "cell_type": "code",
     "collapsed": false,
     "input": [
      "%%R\n",
      "\n",
      "vars = colnames(traces)\n",
      "fn = c()"
     ],
     "language": "python",
     "metadata": {},
     "outputs": [],
     "prompt_number": 135
    },
    {
     "cell_type": "markdown",
     "metadata": {},
     "source": [
      "The program crashes in an invalid instruction:"
     ]
    },
    {
     "cell_type": "code",
     "collapsed": false,
     "input": [
      "%%R\n",
      "\n",
      "v_bad_eip = grep(\"crashed\",vars)\n",
      "v_bad_eip = setdiff(v_bad_eip, c(grep(\"crashed.eip.GPtr32\", vars)))\n",
      "v_bad_eip = setdiff(v_bad_eip, c(grep(\"crashed.eip.LPtr32\", vars)))\n",
      "print(vars[v_bad_eip])\n",
      "#print(vars[[grep(\"crashed\",vars[-v_good_eip])])\n",
      "#v_crashed_eip_DPtr32 = \n",
      "\n",
      "s_bad_eip = 1\n",
      "\n",
      "fx = function(x) {\n",
      "  return(max(as.numeric(x[v_bad_eip]))*s_bad_eip)\n",
      "}\n",
      "\n",
      "fn = c(fx, fn)"
     ],
     "language": "python",
     "metadata": {},
     "outputs": [
      {
       "output_type": "display_data",
       "text": [
        "[1] \"crashed.eip.Ptr32\"  \"crashed.eip.SPtr32\" \"crashed.eip.FPtr32\"\n",
        "[4] \"crashed.eip.NPtr32\" \"crashed.eip.DPtr32\"\n"
       ]
      }
     ],
     "prompt_number": 136
    },
    {
     "cell_type": "markdown",
     "metadata": {},
     "source": [
      "The program crashes in general:"
     ]
    },
    {
     "cell_type": "code",
     "collapsed": false,
     "input": [
      "%%R\n",
      "\n",
      "v_SIGSEGV = grep(\"SIGSEGV\",vars)\n",
      "print(vars[v_SIGSEGV])\n",
      "\n",
      "fx = function(x) {\n",
      "  return(max(as.numeric(x[v_SIGSEGV])))\n",
      "}\n",
      "\n",
      "fn = c(fx, fn)"
     ],
     "language": "python",
     "metadata": {},
     "outputs": [
      {
       "output_type": "display_data",
       "text": [
        "[1] \"SIGSEGV.addr.SPtr32\" \"SIGSEGV.addr.LPtr32\" \"SIGSEGV.addr.FPtr32\"\n",
        "[4] \"SIGSEGV.addr.DPtr32\" \"SIGSEGV.addr.GPtr32\" \"SIGSEGV.addr.Top32\" \n"
       ]
      }
     ],
     "prompt_number": 137
    },
    {
     "cell_type": "markdown",
     "metadata": {},
     "source": [
      "The program uses a dangling pointer:"
     ]
    },
    {
     "cell_type": "code",
     "collapsed": false,
     "input": [
      "%%R\n",
      "\n",
      "v_DPtr32 = grep(\"DPtr32\",vars)\n",
      "\n",
      "fx = function(x) {\n",
      "  return(max(as.numeric(x[v_DPtr32])))\n",
      "}\n",
      "\n",
      "fn = c(fx, fn)"
     ],
     "language": "python",
     "metadata": {},
     "outputs": [],
     "prompt_number": 138
    },
    {
     "cell_type": "markdown",
     "metadata": {},
     "source": [
      "The program allocates a large piece of memory:"
     ]
    },
    {
     "cell_type": "code",
     "collapsed": false,
     "input": [
      "%%R\n",
      "\n",
      "v_bad_alloc = c(grep(\"malloc_0.Num32B0\",vars),grep(\"malloc_0.Num32B24\",vars), grep(\"malloc_0.Num32B32\",vars))\n",
      "v_bad_alloc = c(grep(\"alloc\",vars),v_bad_alloc)\n",
      "print(vars[v_bad_alloc])\n",
      "\n",
      "s_bad_alloc = 1000\n",
      "\n",
      "fx = function(x) {\n",
      "  return(s_bad_alloc*max(as.numeric(x[v_bad_alloc])))\n",
      "}\n",
      "\n",
      "fn = c(fx, fn)"
     ],
     "language": "python",
     "metadata": {},
     "outputs": [
      {
       "output_type": "display_data",
       "text": [
        " [1] \"realloc.ret_addr.LPtr32\" \"realloc.ret_addr.GPtr32\"\n",
        " [3] \"realloc.ret_val.HPtr32\"  \"realloc.ret_val.FPtr32\" \n",
        " [5] \"realloc.ret_val.NPtr32\"  \"realloc.ret_val.Top32\"  \n",
        " [7] \"realloc_0.HPtr32\"        \"realloc_0.NPtr32\"       \n",
        " [9] \"realloc_0.DPtr32\"        \"realloc_1.Num32B8\"      \n",
        "[11] \"realloc_1.Num32B16\"      \"realloc_1.Num32B24\"     \n",
        "[13] \"realloc_1.Num32B32\"      \"malloc.ret_addr.LPtr32\" \n",
        "[15] \"malloc.ret_addr.GPtr32\"  \"malloc.ret_val.HPtr32\"  \n",
        "[17] \"malloc.ret_val.FPtr32\"   \"malloc.ret_val.NPtr32\"  \n",
        "[19] \"malloc.ret_val.Top32\"    \"malloc_0.Num32B0\"       \n",
        "[21] \"malloc_0.Num32B8\"        \"malloc_0.Num32B16\"      \n",
        "[23] \"malloc_0.Num32B24\"       \"malloc_0.Num32B32\"      \n",
        "[25] \"calloc.ret_addr.LPtr32\"  \"calloc.ret_addr.GPtr32\" \n",
        "[27] \"calloc.ret_val.HPtr32\"   \"calloc.ret_val.FPtr32\"  \n",
        "[29] \"calloc.ret_val.NPtr32\"   \"calloc.ret_val.Top32\"   \n",
        "[31] \"calloc_0.Num32B0\"        \"calloc_0.Num32B8\"       \n",
        "[33] \"calloc_0.Num32B16\"       \"calloc_0.Num32B24\"      \n",
        "[35] \"calloc_0.Num32B32\"       \"calloc_1.Num32B8\"       \n",
        "[37] \"calloc_1.Num32B16\"       \"calloc_1.Num32B32\"      \n",
        "[39] \"malloc_0.Num32B0\"        \"malloc_0.Num32B24\"      \n",
        "[41] \"malloc_0.Num32B32\"      \n"
       ]
      }
     ],
     "prompt_number": 145
    },
    {
     "cell_type": "code",
     "collapsed": false,
     "input": [
      "%%R\n",
      "\n",
      "rank = function(x) {\n",
      "  r = 0\n",
      "  \n",
      "  for (f in fn) {\n",
      "    r = r + f(x)\n",
      "  }\n",
      "    \n",
      "  return(r)\n",
      "         \n",
      "}\n",
      "\n",
      "#print(traces[1:20,1])\n",
      "ranking = cbind(binary=traces[,1],as.data.frame(apply(traces, 1, rank)))\n",
      "\n",
      "#print(ranking[2,])\n",
      "#ranking = ranking[order(ranking[2,])]\n",
      "#ranking = table(binary=ranking[1,], score=ranking[2,])\n",
      "#print(ranking[1:20])\n",
      "ranking = ranking[order(ranking[,2],decreasing=T),]\n",
      "print(ranking[1:50,])\n",
      "\n",
      "#print()"
     ],
     "language": "python",
     "metadata": {},
     "outputs": [
      {
       "output_type": "display_data",
       "text": [
        "                              binary apply(traces, 1, rank)\n",
        "805             /usr/games/jumpnbump                   1002\n",
        "806             /usr/games/jumpnbump                   1002\n",
        "955              /usr/bin/csdp-theta                   1002\n",
        "1006               /usr/bin/ymplayer                   1002\n",
        "1008               /usr/bin/ymplayer                   1002\n",
        "1012               /usr/bin/ymplayer                   1002\n",
        "1014               /usr/bin/ymplayer                   1002\n",
        "1016               /usr/bin/ymplayer                   1002\n",
        "1020               /usr/bin/ymplayer                   1002\n",
        "1021               /usr/bin/ymplayer                   1002\n",
        "1025               /usr/bin/ymplayer                   1002\n",
        "1027               /usr/bin/ymplayer                   1002\n",
        "1118            /usr/bin/fst-compare                   1002\n",
        "1147             /usr/sbin/dump-utmp                   1002\n",
        "1152             /usr/sbin/dump-utmp                   1002\n",
        "1153             /usr/sbin/dump-utmp                   1002\n",
        "1529               /usr/bin/fst-infl                   1002\n",
        "1530               /usr/bin/fst-infl                   1002\n",
        "1540                     /usr/bin/xa                   1002\n",
        "1688            /usr/bin/fst-compact                   1002\n",
        "1689            /usr/bin/fst-compact                   1002\n",
        "1805       /usr/bin/redis-check-dump                   1002\n",
        "1869                /usr/bin/rahash2                   1002\n",
        "1871                /usr/bin/rahash2                   1002\n",
        "1873            /usr/bin/fst-lattice                   1002\n",
        "2415                 /usr/bin/formed                   1002\n",
        "2418                 /usr/bin/formed                   1002\n",
        "2544                /usr/bin/gpstrip                   1002\n",
        "2892 /usr/bin/ucspi-proxy-http-xlate                   1002\n",
        "2895 /usr/bin/ucspi-proxy-http-xlate                   1002\n",
        "3317                   /usr/bin/gpvo                   1002\n",
        "3322                   /usr/bin/gpvo                   1002\n",
        "3625                /usr/bin/rifiuti                   1002\n",
        "3750               /usr/bin/isqlw-vt                   1002\n",
        "3751               /usr/bin/isqlw-vt                   1002\n",
        "3752               /usr/bin/isqlw-vt                   1002\n",
        "3753               /usr/bin/isqlw-vt                   1002\n",
        "3776                /usr/bin/gosmore                   1002\n",
        "3804                 /usr/bin/pforth                   1002\n",
        "3807                 /usr/bin/pforth                   1002\n",
        "4048                 /usr/bin/maxcut                   1002\n",
        "4053                 /usr/bin/maxcut                   1002\n",
        "4061                 /usr/bin/maxcut                   1002\n",
        "4191               /usr/sbin/esekeyd                   1002\n",
        "4444              /usr/bin/splitkeys                   1002\n",
        "4448              /usr/bin/splitkeys                   1002\n",
        "4662                 /usr/bin/macro1                   1002\n",
        "4720           /usr/bin/fst-generate                   1002\n",
        "4721           /usr/bin/fst-generate                   1002\n",
        "4764                 /usr/bin/g3tolj                   1002\n"
       ]
      }
     ],
     "prompt_number": 141
    },
    {
     "cell_type": "markdown",
     "metadata": {},
     "source": [
      "Now we can take a quick look to the data, checking the (obvious) interesting cases. For example, crashes with a dangling pointer as the EIP:"
     ]
    },
    {
     "cell_type": "code",
     "collapsed": false,
     "input": [
      "%%R\n",
      "print(traces[traces[,\"strcpy_1.DPtr32\"]>0 ,1])"
     ],
     "language": "python",
     "metadata": {},
     "outputs": []
    },
    {
     "cell_type": "code",
     "collapsed": false,
     "input": [],
     "language": "python",
     "metadata": {},
     "outputs": []
    }
   ],
   "metadata": {}
  }
 ]
}